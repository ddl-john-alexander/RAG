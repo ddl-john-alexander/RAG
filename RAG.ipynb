{
 "cells": [
  {
   "cell_type": "code",
   "execution_count": 4,
   "id": "ed9d9425-28d8-4662-8763-1440954d6595",
   "metadata": {
    "tags": []
   },
   "outputs": [],
   "source": [
    "import os\n",
    "\n",
    "from langchain import PromptTemplate\n",
    "from langchain.chains import RetrievalQA\n",
    "from langchain.chat_models import ChatAnthropic\n",
    "from langchain.document_loaders.csv_loader import CSVLoader\n",
    "from langchain.embeddings import HuggingFaceBgeEmbeddings\n",
    "from langchain.vectorstores.qdrant import Qdrant\n",
    "\n",
    "from getpass import getpass"
   ]
  },
  {
   "cell_type": "code",
   "execution_count": 5,
   "id": "575bea48-9c75-4d31-bb01-0b111d494281",
   "metadata": {
    "tags": []
   },
   "outputs": [
    {
     "name": "stdin",
     "output_type": "stream",
     "text": [
      "Enter Anthropic key: ········\n",
      "Enter Qdrant API key: ········\n"
     ]
    }
   ],
   "source": [
    "os.environ['ANTHROPIC_API_KEY'] = getpass(\"Enter Anthropic key:\")\n",
    "os.environ['QDRANT_API_KEY'] = getpass(\"Enter Qdrant API key:\")\n",
    "qdrant_url = 'https://58de2381-e750-4aed-8eb2-7b08d8faf30b.us-east4-0.gcp.cloud.qdrant.io:6333'\n",
    "os.environ['SENTENCE_TRANSFORMERS_HOME'] = '/mnt/data/MedRAG/model_cache/'"
   ]
  },
  {
   "cell_type": "code",
   "execution_count": 6,
   "id": "7cee4c49-9a17-4ece-8777-43d2baef0549",
   "metadata": {
    "tags": []
   },
   "outputs": [],
   "source": [
    "# Load the data\n",
    "loader = CSVLoader(file_path='/mnt/code/data/disease_components.csv',source_column=\"link\")\n",
    "data = loader.load()"
   ]
  },
  {
   "cell_type": "code",
   "execution_count": 7,
   "id": "f20f62b5-e3d6-4c16-8715-a4fc71ef5b33",
   "metadata": {
    "tags": []
   },
   "outputs": [
    {
     "name": "stdout",
     "output_type": "stream",
     "text": [
      "1183 1183\n"
     ]
    }
   ],
   "source": [
    "metadatas = []\n",
    "texts = []\n",
    "for row in data:\n",
    "  metadatas.append(row.metadata)\n",
    "  texts.append(row.page_content)\n",
    "print(len(metadatas),len(texts))"
   ]
  },
  {
   "cell_type": "code",
   "execution_count": 8,
   "id": "98508dd7-7c3c-4d10-bc07-5c4d92e3eab4",
   "metadata": {
    "tags": []
   },
   "outputs": [],
   "source": [
    "prompt_template = \"\"\"Use the following pieces of context to answer the question enclosed within  3 backticks at the end. If you don't know the answer, just say that you don't know, don't try to make up an answer.\n",
    "Please provide an answer which is factually correct and based on the information retrieved from the vector store.\n",
    "Please also mention any quotes supporting the answer if any present in the context supplied within two double quotes \"\" .\n",
    "\n",
    "{context}\n",
    "\n",
    "QUESTION:```{question}```\n",
    "ANSWER:\n",
    "\"\"\"\n",
    "PROMPT = PromptTemplate(template=prompt_template, input_variables=[\"context\",\"question\"])\n",
    "#\n",
    "chain_type_kwargs = {\"prompt\": PROMPT}"
   ]
  },
  {
   "cell_type": "code",
   "execution_count": 11,
   "id": "1d995735-9866-43a8-a902-1acd4a006084",
   "metadata": {
    "tags": []
   },
   "outputs": [],
   "source": [
    "model_kwargs = {'device': 'cpu'}\n",
    "encode_kwargs = {'normalize_embeddings': True}\n",
    "embeddings = HuggingFaceBgeEmbeddings(model_name=\"BAAI/bge-small-en\",\n",
    "                                      model_kwargs=model_kwargs,\n",
    "                                      encode_kwargs=encode_kwargs\n",
    "                                     )\n",
    "\n",
    "doc_store = Qdrant.from_texts(texts,\n",
    "                          metadatas=metadatas,\n",
    "                          embedding=embeddings,\n",
    "                          url=qdrant_url,\n",
    "                          api_key=os.environ['QDRANT_API_KEY'],\n",
    "                          collection_name=f\"medical_qa_search\")\n",
    "\n",
    "rag_llm = ChatAnthropic(temperature=0,\n",
    "                        anthropic_api_key=os.environ[\"ANTHROPIC_API_KEY\"])"
   ]
  },
  {
   "cell_type": "code",
   "execution_count": 12,
   "id": "0f8c9915-2be6-4b90-9ce7-8a2c99d7cdb1",
   "metadata": {
    "tags": []
   },
   "outputs": [],
   "source": [
    "qa_chain = RetrievalQA.from_chain_type(llm=rag_llm,\n",
    "                                       chain_type=\"stuff\",\n",
    "                                       chain_type_kwargs={\"prompt\": PROMPT},\n",
    "                                       retriever=doc_store.as_retriever(search_kwargs={\"k\": 5}),\n",
    "                                       return_source_documents=True\n",
    "                                      )"
   ]
  },
  {
   "cell_type": "code",
   "execution_count": 17,
   "id": "6ea7d8f4-76c5-4d45-8f83-db0215ac8b68",
   "metadata": {
    "tags": []
   },
   "outputs": [
    {
     "name": "stdin",
     "output_type": "stream",
     "text": [
      "Please provide the symptoms here : What is the cause of tendinitis?\n"
     ]
    },
    {
     "name": "stdout",
     "output_type": "stream",
     "text": [
      "What is the cause of tendinitis?\n"
     ]
    }
   ],
   "source": [
    "user_question = input(\"Please provide the symptoms here :\")\n",
    "result = qa_chain(user_question)"
   ]
  },
  {
   "cell_type": "code",
   "execution_count": 18,
   "id": "e2f5476f-6fa3-48ad-99d9-8737e1608034",
   "metadata": {
    "tags": []
   },
   "outputs": [
    {
     "data": {
      "text/plain": [
       "' Based on the information provided, the main cause of tendinitis is repetitive or intense strain on the tendons over time. Some key points about the causes of tendinitis:\\n\\n- \"Tendinitis is caused by repetitive or intense strain on the tendon, the band of tissue that connects muscle to bone. This tendon is used when you walk, run, jump or push up on your toes. The structure of the tendon weakens with age, which can make it more susceptible to injury — particularly in people who may participate in sports only on the weekends or who have suddenly increased the intensity of their running programs.\" (Achilles Tendinitis Overview)\\n\\n- \"Tendinitis is an overuse injury of the tendon — the thick fibrous cords that attach muscle to bone. The condition causes pain and tenderness just outside a joint.\" (Tendinitis Overview) \\n\\n- \"Patellar tendinitis is a common overuse injury, caused by repeated stress on your patellar tendon. The stress results in tiny tears in the tendon, which your body attempts to repair.\" (Patellar Tendinitis Causes)\\n\\n- \"Tennis elbow is an overuse and muscle strain'"
      ]
     },
     "execution_count": 18,
     "metadata": {},
     "output_type": "execute_result"
    }
   ],
   "source": [
    "result['result']"
   ]
  },
  {
   "cell_type": "code",
   "execution_count": 19,
   "id": "dd4c9507-2542-4da2-9da1-8a1ef645e8e3",
   "metadata": {
    "tags": []
   },
   "outputs": [
    {
     "data": {
      "text/plain": [
       "'name: Tendinitis\\nlink: https://www.mayoclinic.org/diseases-conditions/tendinitis/symptoms-causes/syc-20378243\\nSymptoms: [\\'Signs and symptoms of tendinitis tend to occur at the point where a tendon attaches to a bone and typically include:\\', \\'Most cases of tendinitis respond to self-care measures. See your doctor if your signs and symptoms persist and interfere with your daily activities for more than a few days.\\', \\'\\', \\'\\', \\'\\', \\'Pain often described as a dull ache, especially when moving the affected limb or joint\\', \\'Tenderness\\', \\'Mild swelling\\']\\nOverview: [\\'\\', \\'Tendons are thick fibrous cords that attach muscles to bone. Overuse or strain on a joint can irritate tendons and result in tendinitis.\\', \\'\\', \\'Tendinitis is inflammation or irritation of a tendon — the thick fibrous cords that attach muscle to bone. The condition causes pain and tenderness just outside a joint.\\', \"While tendinitis can occur in any of your tendons, it\\'s most common around your shoulders, elbows, wrists, knees and heels.\", \\'Some common names for various tendinitis problems are:\\', \\'Most cases of tendinitis can be successfully treated with rest, physical therapy and medications to reduce pain. If tendinitis is severe and leads to the rupture of a tendon, you may need surgery.\\', \\'\\', \\'\\', \\'\\', \\'Tennis elbow\\', \"Golfer\\'s elbow\", \"Pitcher\\'s shoulder\", \"Swimmer\\'s shoulder\", \"Jumper\\'s knee\", \\'Book: Mayo Clinic Book of Home Remedies\\', \\'Book: Mayo Clinic on Arthritis\\', \\'Mayo Clinic Sports Medicine\\']\\nCauses: [\\'Although tendinitis can be caused by a sudden injury, the condition is much more likely to stem from the repetition of a particular movement over time. Most people develop tendinitis because their jobs or hobbies involve repetitive motions, which put stress on the tendons.\\', \\'Using proper technique is especially important when performing repetitive sports movements or job-related activities. Improper technique can overload the tendon — which can occur, for instance, with tennis elbow — and lead to tendinitis.\\', \\'\\', \\'\\', \\'\\']\\nRisk factors: [\\'Risk factors for developing tendinitis include age, working in particular jobs or participating in certain sports.\\', \\'As people get older, their tendons become less flexible — which makes them easier to injure.\\', \\'Tendinitis is more common in people whose jobs involve:\\', \"You may be more likely to develop tendinitis if you participate in certain sports that involve repetitive motions, especially if your technique isn\\'t optimal. This can occur with:\", \\'\\', \\'\\', \\'\\', \\'Repetitive motions\\', \\'Awkward positions\\', \\'Frequent overhead reaching\\', \\'Vibration\\', \\'Forceful exertion\\', \\'Baseball\\', \\'Basketball\\', \\'Bowling\\', \\'Golf\\', \\'Running\\', \\'Swimming\\', \\'Tennis\\']\\ndiagnosis: [\"Usually, your doctor can diagnose tendinitis during the physical exam alone. Your doctor may order X-rays or other imaging tests if it\\'s necessary to rule out other conditions that may be causing your signs and symptoms.\", \\'X-ray\\']'"
      ]
     },
     "execution_count": 19,
     "metadata": {},
     "output_type": "execute_result"
    }
   ],
   "source": [
    "result['source_documents'][0].page_content"
   ]
  },
  {
   "cell_type": "code",
   "execution_count": null,
   "id": "ef7431ae-9f34-42ae-b917-8ba01260482f",
   "metadata": {},
   "outputs": [],
   "source": []
  }
 ],
 "metadata": {
  "dca-init": "true",
  "kernelspec": {
   "display_name": "Python 3 (ipykernel)",
   "language": "python",
   "name": "python3"
  },
  "language_info": {
   "codemirror_mode": {
    "name": "ipython",
    "version": 3
   },
   "file_extension": ".py",
   "mimetype": "text/x-python",
   "name": "python",
   "nbconvert_exporter": "python",
   "pygments_lexer": "ipython3",
   "version": "3.9.16"
  }
 },
 "nbformat": 4,
 "nbformat_minor": 5
}
