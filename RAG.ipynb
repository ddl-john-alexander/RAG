{
 "cells": [
  {
   "cell_type": "code",
   "execution_count": 49,
   "id": "ed9d9425-28d8-4662-8763-1440954d6595",
   "metadata": {
    "tags": []
   },
   "outputs": [],
   "source": [
    "import os\n",
    "from langchain.embeddings.openai import OpenAIEmbeddings\n",
    "from langchain import PromptTemplate\n",
    "from langchain.chains import RetrievalQA\n",
    "from langchain.chat_models import ChatOpenAI\n",
    "from langchain.vectorstores.pinecone import Pinecone\n",
    "import pinecone\n",
    "from getpass import getpass\n",
    "import warnings\n",
    "warnings.filterwarnings('ignore')"
   ]
  },
  {
   "cell_type": "code",
   "execution_count": 50,
   "id": "575bea48-9c75-4d31-bb01-0b111d494281",
   "metadata": {
    "tags": []
   },
   "outputs": [],
   "source": [
    "#os.environ['ANTHROPIC_API_KEY'] = getpass(\"Enter Anthropic key:\")\n",
    "#os.environ['OPENAI_API_KEY'] = getpass(\"Enter OpenAI API key:\")\n",
    "#os.environ['PINECONE_API_KEY'] = getpass(\"Enter Pinecone API key:\")\n",
    "#os.environ['PINECONE_ENV'] = getpass(\"Enter Pinecone Environment:\")\n",
    "\n",
    "OPENAI_API_KEY = os.getenv('OPENAI_API_KEY') \n",
    "PINECONE_API_KEY = os.getenv('PINECONE_API_KEY')\n",
    "PINECONE_ENV = os.getenv('PINECONE_API_ENV')\n",
    "os.environ['TOKENIZERS_PARALLELISM'] = 'false'"
   ]
  },
  {
   "cell_type": "code",
   "execution_count": 51,
   "id": "be82be78-9a81-434c-9590-1984827a8196",
   "metadata": {
    "tags": []
   },
   "outputs": [],
   "source": [
    "# initialize embedding\n",
    "model = 'text-embedding-ada-002'\n",
    "\n",
    "embed = OpenAIEmbeddings(\n",
    "    model=model,\n",
    "    openai_api_key=OPENAI_API_KEY\n",
    ")"
   ]
  },
  {
   "cell_type": "code",
   "execution_count": 52,
   "id": "ffb3b605-372b-4be3-8f88-a7159f6a6740",
   "metadata": {
    "tags": []
   },
   "outputs": [],
   "source": [
    "text_field = \"symptoms\"\n",
    "# initialize pinecone\n",
    "pinecone.init(\n",
    "    api_key=PINECONE_API_KEY,\n",
    "    environment=PINECONE_ENV\n",
    ")\n",
    "\n",
    "index_name = \"medical-qa-search\"\n",
    "index = pinecone.Index(index_name)\n",
    "\n",
    "# switch back to normal index for langchain\n",
    "vectorstore = Pinecone(\n",
    "    index, embed.embed_query, text_field\n",
    ")"
   ]
  },
  {
   "cell_type": "code",
   "execution_count": 53,
   "id": "98508dd7-7c3c-4d10-bc07-5c4d92e3eab4",
   "metadata": {
    "tags": []
   },
   "outputs": [],
   "source": [
    "prompt_template = \"\"\"Use the following pieces of context to answer the question enclosed within  3 backticks at the end. If you don't know the answer, just say that you don't know, don't try to make up an answer.\n",
    "Please provide an answer which is factually correct and based on the information retrieved from the vector store.\n",
    "Please also mention any quotes supporting the answer if any present in the context supplied within two double quotes \"\" .\n",
    "\n",
    "{context}\n",
    "\n",
    "QUESTION:```{question}```\n",
    "ANSWER:\n",
    "\"\"\"\n",
    "PROMPT = PromptTemplate(template=prompt_template, input_variables=[\"context\",\"question\"])\n",
    "#\n",
    "chain_type_kwargs = {\"prompt\": PROMPT}"
   ]
  },
  {
   "cell_type": "code",
   "execution_count": 54,
   "id": "153856bf-65d4-40c0-b3e3-ffe7f03bbfb2",
   "metadata": {},
   "outputs": [],
   "source": [
    "rag_llm = ChatOpenAI(\n",
    "    openai_api_key=OPENAI_API_KEY,\n",
    "    model_name='gpt-4',\n",
    "    temperature=0.0\n",
    ")"
   ]
  },
  {
   "cell_type": "code",
   "execution_count": 55,
   "id": "0f8c9915-2be6-4b90-9ce7-8a2c99d7cdb1",
   "metadata": {
    "tags": []
   },
   "outputs": [],
   "source": [
    "qa_chain = RetrievalQA.from_chain_type(llm=rag_llm,\n",
    "                                       chain_type=\"stuff\",\n",
    "                                       chain_type_kwargs={\"prompt\": PROMPT},\n",
    "                                       retriever=vectorstore.as_retriever(search_kwargs={\"k\": 5}),\n",
    "                                       return_source_documents=True\n",
    "                                      )"
   ]
  },
  {
   "cell_type": "code",
   "execution_count": 58,
   "id": "cd823733-0c99-47b3-97d3-2afc303022c3",
   "metadata": {},
   "outputs": [
    {
     "name": "stdin",
     "output_type": "stream",
     "text": [
      "Please provide the symptoms here : What are the symptoms of alcoholic hepatitis?\n"
     ]
    }
   ],
   "source": [
    "user_question = input(\"Please provide the symptoms here :\")\n",
    "result = qa_chain(user_question)"
   ]
  },
  {
   "cell_type": "code",
   "execution_count": 59,
   "id": "e2f5476f-6fa3-48ad-99d9-8737e1608034",
   "metadata": {
    "tags": []
   },
   "outputs": [
    {
     "data": {
      "text/plain": [
       "'The symptoms of alcoholic hepatitis include:\\n\\n1. Yellowing of the skin and whites of the eyes (jaundice)\\n2. Malnutrition\\n3. Loss of appetite\\n4. Nausea and vomiting\\n5. Abdominal tenderness\\n6. Fever, often low grade\\n7. Fatigue and weakness\\n8. Fluid accumulation in your abdomen (ascites)\\n9. Confusion and behavior changes due to a buildup of toxins normally broken down and eliminated by the liver\\n10. Kidney and liver failure\\n\\nThese symptoms are mentioned in the context: \"The most common sign of alcoholic hepatitis is yellowing of the skin and whites of the eyes (jaundice). Other signs and symptoms include: Malnutrition is common in people with alcoholic hepatitis. Drinking large amounts of alcohol suppresses the appetite, and heavy drinkers get most of their calories from alcohol. Additional signs and symptoms that occur with severe alcoholic hepatitis include: Loss of appetite, Nausea and vomiting, Abdominal tenderness, Fever, often low grade, Fatigue and weakness, Fluid accumulation in your abdomen (ascites), Confusion and behavior changes due to a buildup of toxins normally broken down and eliminated by the liver, Kidney and liver failure.\"'"
      ]
     },
     "execution_count": 59,
     "metadata": {},
     "output_type": "execute_result"
    }
   ],
   "source": [
    "result['result']"
   ]
  },
  {
   "cell_type": "code",
   "execution_count": 47,
   "id": "dd4c9507-2542-4da2-9da1-8a1ef645e8e3",
   "metadata": {
    "tags": []
   },
   "outputs": [
    {
     "data": {
      "text/plain": [
       "'[\\'\\', \\'Shingles is characterized by pain or a tingling sensation in a limited area on one side of the face or torso, followed by a red rash with small, fluid-filled blisters.\\', \\'\\', \\'The signs and symptoms of shingles usually affect only a small section of one side of your body. These signs and symptoms may include:\\', \\'Some people also experience:\\', \\'Pain is usually the first symptom of shingles. For some, it can be intense. Depending on the location of the pain, it can sometimes be mistaken for a symptom of problems affecting the heart, lungs or kidneys. Some people experience shingles pain without ever developing the rash.\\', \\'Most commonly, the shingles rash develops as a stripe of blisters that wraps around either the left or right side of your torso. Sometimes the shingles rash occurs around one eye or on one side of the neck or face.\\', \\'Contact your doctor promptly if you suspect shingles, but especially in the following situations:\\', \\'\\', \\'\\', \\'\\', \\'\\', \\'\\', \\'Pain, burning, numbness or tingling\\', \\'Sensitivity to touch\\', \\'A red rash that begins a few days after the pain\\', \\'Fluid-filled blisters that break open and crust over\\', \\'Itching\\', \\'Fever\\', \\'Headache\\', \\'Sensitivity to light\\', \\'Fatigue\\', \\'The pain and rash occur near an eye. If left untreated, this infection can lead to permanent eye damage.\\', \"You\\'re 60 or older, because age significantly increases your risk of complications.\", \\'You or someone in your family has a weakened immune system (due to cancer, medications or chronic illness).\\', \\'The rash is widespread and painful.\\']'"
      ]
     },
     "execution_count": 47,
     "metadata": {},
     "output_type": "execute_result"
    }
   ],
   "source": [
    "result['source_documents'][0].page_content"
   ]
  },
  {
   "cell_type": "code",
   "execution_count": null,
   "id": "ef7431ae-9f34-42ae-b917-8ba01260482f",
   "metadata": {},
   "outputs": [],
   "source": []
  }
 ],
 "metadata": {
  "dca-init": "true",
  "kernelspec": {
   "display_name": "Python 3 (ipykernel)",
   "language": "python",
   "name": "python3"
  },
  "language_info": {
   "codemirror_mode": {
    "name": "ipython",
    "version": 3
   },
   "file_extension": ".py",
   "mimetype": "text/x-python",
   "name": "python",
   "nbconvert_exporter": "python",
   "pygments_lexer": "ipython3",
   "version": "3.9.18"
  }
 },
 "nbformat": 4,
 "nbformat_minor": 5
}
