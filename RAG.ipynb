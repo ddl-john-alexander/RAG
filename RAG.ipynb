{
 "cells": [
  {
   "cell_type": "code",
   "execution_count": 3,
   "id": "ed9d9425-28d8-4662-8763-1440954d6595",
   "metadata": {
    "tags": []
   },
   "outputs": [],
   "source": [
    "import os\n",
    "from langchain.embeddings.openai import OpenAIEmbeddings\n",
    "from langchain import PromptTemplate\n",
    "from langchain.chains import RetrievalQA\n",
    "from langchain.chat_models import ChatOpenAI\n",
    "from langchain.vectorstores.pinecone import Pinecone\n",
    "import pinecone\n",
    "from getpass import getpass\n",
    "import warnings\n",
    "warnings.filterwarnings('ignore')"
   ]
  },
  {
   "cell_type": "code",
   "execution_count": 4,
   "id": "575bea48-9c75-4d31-bb01-0b111d494281",
   "metadata": {
    "tags": []
   },
   "outputs": [],
   "source": [
    "#os.environ['ANTHROPIC_API_KEY'] = getpass(\"Enter Anthropic key:\")\n",
    "#os.environ['OPENAI_API_KEY'] = getpass(\"Enter OpenAI API key:\")\n",
    "#os.environ['PINECONE_API_KEY'] = getpass(\"Enter Pinecone API key:\")\n",
    "#os.environ['PINECONE_ENV'] = getpass(\"Enter Pinecone Environment:\")\n",
    "\n",
    "OPENAI_API_KEY = os.getenv('OPENAI_API_KEY') \n",
    "PINECONE_API_KEY = os.getenv('PINECONE_API_KEY')\n",
    "PINECONE_ENV = os.getenv('PINECONE_API_ENV')\n",
    "os.environ['TOKENIZERS_PARALLELISM'] = 'false'"
   ]
  },
  {
   "cell_type": "code",
   "execution_count": 5,
   "id": "be82be78-9a81-434c-9590-1984827a8196",
   "metadata": {
    "tags": []
   },
   "outputs": [],
   "source": [
    "# initialize embedding\n",
    "model = 'text-embedding-ada-002'\n",
    "\n",
    "# The OpenAIEmbeddings class is instantiated with two parameters: \n",
    "# 'model' and 'openai_api_key'. 'model' is the name of the model to be used \n",
    "# and 'openai_api_key' is the key for accessing the OpenAI API.\n",
    "embed = OpenAIEmbeddings(\n",
    "    model=model,\n",
    "    openai_api_key=OPENAI_API_KEY\n",
    ")"
   ]
  },
  {
   "cell_type": "code",
   "execution_count": 6,
   "id": "ffb3b605-372b-4be3-8f88-a7159f6a6740",
   "metadata": {
    "tags": []
   },
   "outputs": [],
   "source": [
    "# Defines the field name in the data which contains the text to be embedded.\n",
    "text_field = \"symptoms\"\n",
    "\n",
    "# Initializes the Pinecone service with the provided API key and environment.\n",
    "pinecone.init(\n",
    "    api_key=PINECONE_API_KEY,\n",
    "    environment=PINECONE_ENV\n",
    ")\n",
    "\n",
    "# Defines the name of the Pinecone index to be used.\n",
    "index_name = \"medical-qa-search\"\n",
    "index = pinecone.Index(index_name)\n",
    "\n",
    "# Creates an instance of the Pinecone class. It uses the previously created index,\n",
    "# the embed_query method of the previously created embed object, and the text field.\n",
    "vectorstore = Pinecone(\n",
    "    index, embed.embed_query, text_field\n",
    ")"
   ]
  },
  {
   "cell_type": "code",
   "execution_count": 7,
   "id": "98508dd7-7c3c-4d10-bc07-5c4d92e3eab4",
   "metadata": {
    "tags": []
   },
   "outputs": [],
   "source": [
    "prompt_template = \"\"\"Use the following pieces of context to answer the question enclosed within  3 backticks at the end. If you don't know the answer, just say that you don't know, don't try to make up an answer.\n",
    "Please provide an answer which is factually correct and based on the information retrieved from the vector store.\n",
    "Please also mention any quotes supporting the answer if any present in the context supplied within two double quotes \"\" .\n",
    "\n",
    "{context}\n",
    "\n",
    "QUESTION:```{question}```\n",
    "ANSWER:\n",
    "\"\"\"\n",
    "PROMPT = PromptTemplate(template=prompt_template, input_variables=[\"context\",\"question\"])\n",
    "#\n",
    "chain_type_kwargs = {\"prompt\": PROMPT}"
   ]
  },
  {
   "cell_type": "code",
   "execution_count": 8,
   "id": "153856bf-65d4-40c0-b3e3-ffe7f03bbfb2",
   "metadata": {},
   "outputs": [],
   "source": [
    "# Creates an instance of the ChatOpenAI class.\n",
    "rag_llm = ChatOpenAI(\n",
    "    openai_api_key=OPENAI_API_KEY,\n",
    "    model_name='gpt-4',\n",
    "    temperature=0.0\n",
    ")"
   ]
  },
  {
   "cell_type": "code",
   "execution_count": 9,
   "id": "0f8c9915-2be6-4b90-9ce7-8a2c99d7cdb1",
   "metadata": {
    "tags": []
   },
   "outputs": [],
   "source": [
    "qa_chain = RetrievalQA.from_chain_type(llm=rag_llm,\n",
    "                                       chain_type=\"stuff\",\n",
    "                                       chain_type_kwargs={\"prompt\": PROMPT},\n",
    "                                       retriever=vectorstore.as_retriever(search_kwargs={\"k\": 5}),\n",
    "                                       return_source_documents=True\n",
    "                                      )"
   ]
  },
  {
   "cell_type": "code",
   "execution_count": 10,
   "id": "cd823733-0c99-47b3-97d3-2afc303022c3",
   "metadata": {},
   "outputs": [
    {
     "name": "stdin",
     "output_type": "stream",
     "text": [
      "Please provide the symptoms here : What are the symptoms of anaphylaxis\n"
     ]
    }
   ],
   "source": [
    "user_question = input(\"Please provide the symptoms here :\")\n",
    "result = qa_chain(user_question)"
   ]
  },
  {
   "cell_type": "code",
   "execution_count": 11,
   "id": "e2f5476f-6fa3-48ad-99d9-8737e1608034",
   "metadata": {
    "tags": []
   },
   "outputs": [
    {
     "data": {
      "text/plain": [
       "'The symptoms of anaphylaxis include skin reactions such as hives and itching, flushed or pale skin, low blood pressure (hypotension), constriction of airways and a swollen tongue or throat which can cause wheezing and trouble breathing, a weak and rapid pulse, nausea, vomiting, or diarrhea, and dizziness or fainting. Other symptoms can include severe dizziness, severe trouble breathing or loss of consciousness, tightening of the throat, shortness of breath or wheezing, runny nose, constriction of airways, swelling of the throat that makes it difficult to breathe, a severe drop in blood pressure (shock), rapid pulse, dizziness, lightheadedness, or loss of consciousness.'"
      ]
     },
     "execution_count": 11,
     "metadata": {},
     "output_type": "execute_result"
    }
   ],
   "source": [
    "result['result']"
   ]
  },
  {
   "cell_type": "code",
   "execution_count": 12,
   "id": "dd4c9507-2542-4da2-9da1-8a1ef645e8e3",
   "metadata": {
    "tags": []
   },
   "outputs": [
    {
     "data": {
      "text/plain": [
       "'Anaphylaxis symptoms usually occur within minutes of exposure to an allergen. Sometimes however it can occur a half-hour or longer after exposure. Signs and symptoms include: Seek emergency medical help if you your child or someone else youre with has a severe allergic reaction. Dont wait to see if the symptoms go away. If the person having the attack carries an epinephrine autoinjector administer it right away. Even if symptoms improve after the injection you still need to go to an emergency room to make sure symptoms dont recur even without more exposure to your allergen. This second reaction is called biphasic anaphylaxis. Make an appointment to see your doctor if you or your child has had a severe allergy attack or signs and symptoms of anaphylaxis in the past. The diagnosis and long-term management of anaphylaxis are complicated so youll probably need to see a doctor who specializes in allergies and immunology. Skin reactions including hives and itching and flushed or pale skin Low blood pressure (hypotension) Constriction of your airways and a swollen tongue or throat which can cause wheezing and trouble breathing A weak and rapid pulse Nausea vomiting or diarrhea Dizziness or fainting'"
      ]
     },
     "execution_count": 12,
     "metadata": {},
     "output_type": "execute_result"
    }
   ],
   "source": [
    "result['source_documents'][0].page_content"
   ]
  },
  {
   "cell_type": "code",
   "execution_count": null,
   "id": "ef7431ae-9f34-42ae-b917-8ba01260482f",
   "metadata": {},
   "outputs": [],
   "source": []
  }
 ],
 "metadata": {
  "dca-init": "true",
  "kernelspec": {
   "display_name": "Python 3 (ipykernel)",
   "language": "python",
   "name": "python3"
  },
  "language_info": {
   "codemirror_mode": {
    "name": "ipython",
    "version": 3
   },
   "file_extension": ".py",
   "mimetype": "text/x-python",
   "name": "python",
   "nbconvert_exporter": "python",
   "pygments_lexer": "ipython3",
   "version": "3.9.18"
  }
 },
 "nbformat": 4,
 "nbformat_minor": 5
}
