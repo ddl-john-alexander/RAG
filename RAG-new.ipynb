{
 "cells": [
  {
   "cell_type": "markdown",
   "id": "20dcbf8e-bc06-45ba-a540-a467893231b8",
   "metadata": {},
   "source": [
    "# RAG Process - Inference"
   ]
  },
  {
   "cell_type": "markdown",
   "id": "e3b50f94-e699-4c05-9fa8-c37214f3bf76",
   "metadata": {},
   "source": [
    "### Load the needed libraries"
   ]
  },
  {
   "cell_type": "code",
   "execution_count": 1,
   "id": "ed9d9425-28d8-4662-8763-1440954d6595",
   "metadata": {
    "tags": []
   },
   "outputs": [
    {
     "name": "stderr",
     "output_type": "stream",
     "text": [
      "/usr/local/lib/python3.10/dist-packages/pinecone/index.py:4: TqdmExperimentalWarning: Using `tqdm.autonotebook.tqdm` in notebook mode. Use `tqdm.tqdm` instead to force console mode (e.g. in jupyter console)\n",
      "  from tqdm.autonotebook import tqdm\n",
      "/usr/local/lib/python3.10/dist-packages/pydantic/_internal/_config.py:317: UserWarning: Valid config keys have changed in V2:\n",
      "* 'schema_extra' has been renamed to 'json_schema_extra'\n",
      "  warnings.warn(message, UserWarning)\n"
     ]
    }
   ],
   "source": [
    "import os\n",
    "from langchain.embeddings.openai import OpenAIEmbeddings\n",
    "from langchain import PromptTemplate\n",
    "from langchain.chains import RetrievalQA\n",
    "from langchain.chat_models import ChatOpenAI\n",
    "from langchain.vectorstores.pinecone import Pinecone\n",
    "from domino_data.vectordb import DominoPineconeConfiguration\n",
    "from mlflow.deployments import get_deploy_client\n",
    "from langchain_community.embeddings import MlflowEmbeddings\n",
    "from langchain_community.chat_models import ChatMlflow\n",
    "\n",
    "import pinecone\n",
    "from getpass import getpass\n",
    "import warnings\n",
    "warnings.filterwarnings('ignore')"
   ]
  },
  {
   "cell_type": "markdown",
   "id": "cc33cf4b-a505-4275-b8a0-0a1a230235eb",
   "metadata": {},
   "source": [
    "### Load environment variables"
   ]
  },
  {
   "cell_type": "markdown",
   "id": "feccbb32-a0f2-4960-a091-48638fc021ad",
   "metadata": {},
   "source": [
    "Notice that the API Keys that you would normally need are commented out. Using Domino AI Gateway Endpoints for your model access and Domino Vector Data Sources for vector store access means that the API keys are managed and stored securely by the Admins."
   ]
  },
  {
   "cell_type": "code",
   "execution_count": 2,
   "id": "575bea48-9c75-4d31-bb01-0b111d494281",
   "metadata": {
    "tags": []
   },
   "outputs": [],
   "source": [
    "#os.environ['ANTHROPIC_API_KEY'] = getpass(\"Enter Anthropic key:\")\n",
    "#os.environ['OPENAI_API_KEY'] = getpass(\"Enter OpenAI API key:\")\n",
    "#os.environ['PINECONE_API_KEY'] = getpass(\"Enter Pinecone API key:\")\n",
    "#os.environ['PINECONE_ENV'] = getpass(\"Enter Pinecone Environment:\")\n",
    "\n",
    "#OPENAI_API_KEY = os.getenv('OPENAI_API_KEY') \n",
    "#PINECONE_API_KEY = os.getenv('PINECONE_API_KEY')\n",
    "PINECONE_ENV = os.getenv('PINECONE_API_ENV')\n",
    "os.environ['TOKENIZERS_PARALLELISM'] = 'false'"
   ]
  },
  {
   "cell_type": "markdown",
   "id": "9ba5d043-51a4-4d83-bdd3-b0009088abff",
   "metadata": {},
   "source": [
    "### Create embeddings to embed queries using Domino AI Gateway Endpoint in LangChain"
   ]
  },
  {
   "cell_type": "code",
   "execution_count": 10,
   "id": "38c4e74a-8525-4d86-8119-82f0d9a92254",
   "metadata": {
    "tags": []
   },
   "outputs": [],
   "source": [
    "embed = MlflowEmbeddings(\n",
    "    target_uri=os.environ[\"DOMINO_MLFLOW_DEPLOYMENTS\"],\n",
    "    endpoint=\"embedding-ada-002ja2\",\n",
    ")"
   ]
  },
  {
   "cell_type": "markdown",
   "id": "910a658d-3cfc-4a8a-bda2-a9bf74318d35",
   "metadata": {
    "tags": []
   },
   "source": [
    "### Initialize Pinecone vector store using a Domino-specific Environment"
   ]
  },
  {
   "cell_type": "code",
   "execution_count": 11,
   "id": "ffb3b605-372b-4be3-8f88-a7159f6a6740",
   "metadata": {
    "scrolled": true,
    "tags": []
   },
   "outputs": [],
   "source": [
    "# Pinecone data field containing the doc text \n",
    "text_field = \"text\"\n",
    "\n",
    "# Domino Pinecone Data Source name \n",
    "datasource_name = \"nwh-benefits\"\n",
    "\n",
    "# Load Domino Pinecone Data Source Configuration \n",
    "conf = DominoPineconeConfiguration(datasource=datasource_name)\n",
    "\n",
    "# api_key variable is a mandatory non-empty field used for \n",
    "# the native pinecone python client initialization \n",
    "# using Pinecone Data Source name \n",
    "api_key = os.environ.get(\"DOMINO_VECTOR_DB_METADATA\", datasource_name)\n",
    "\n",
    "# initialize pinecone\n",
    "pinecone.init(\n",
    "    api_key=api_key, \n",
    "    environment=PINECONE_ENV,\n",
    "    openapi_config=conf # Domino Pinecone Data Source Configuration \n",
    ")\n",
    "\n",
    "# Load Pinecone Index\n",
    "index_name = \"nwh-plus-benefits\"\n",
    "index = pinecone.Index(index_name)\n",
    "\n",
    "# switch back to normal index for langchain\n",
    "vectorstore = Pinecone(\n",
    "    index, embed.embed_query, text_field # Using embedded data from Domino AI Gateway Endpoint\n",
    ")"
   ]
  },
  {
   "cell_type": "markdown",
   "id": "cdcecfb5-eed2-4c25-b526-f63e5468fd34",
   "metadata": {},
   "source": [
    "### Check index current stats as a simple checkpoint "
   ]
  },
  {
   "cell_type": "markdown",
   "id": "d5a6d083-5870-4fa7-98b8-a12f2905ccba",
   "metadata": {},
   "source": [
    "You'll see that the index has a ```total_vector_count```. This shows the number of vectors are currently present."
   ]
  },
  {
   "cell_type": "code",
   "execution_count": 12,
   "id": "0e8e4ced-49be-4291-8a4f-d934c0635790",
   "metadata": {
    "tags": []
   },
   "outputs": [
    {
     "data": {
      "text/plain": [
       "{'dimension': 1536,\n",
       " 'index_fullness': 0.00696,\n",
       " 'namespaces': {'': {'vector_count': 696}},\n",
       " 'total_vector_count': 696}"
      ]
     },
     "execution_count": 12,
     "metadata": {},
     "output_type": "execute_result"
    }
   ],
   "source": [
    "index.describe_index_stats()"
   ]
  },
  {
   "cell_type": "markdown",
   "id": "cf7af8fa-37cb-45ef-ae66-b1482e2e5c81",
   "metadata": {},
   "source": [
    "### Create the Prompt Template"
   ]
  },
  {
   "cell_type": "code",
   "execution_count": 13,
   "id": "98508dd7-7c3c-4d10-bc07-5c4d92e3eab4",
   "metadata": {
    "tags": []
   },
   "outputs": [],
   "source": [
    "prompt_template = \"\"\"You are an AI assistant for answering questions about employee benefits in health care policy documentation.\n",
    "You are given the following extracted parts of a long document and a question. \n",
    "If you don't know the answer, just say \"Hmm, I'm not sure.\" Don't try to make up an answer.\n",
    "If the question is not about employee benefits or policy coverage, politely inform them that you are tuned to only answer questions pertaining to policy coverage.\n",
    "Question: {question}\n",
    "=========\n",
    "{context}\n",
    "=========\n",
    "Answer in Markdown:\n",
    "\"\"\"\n",
    "PROMPT = PromptTemplate(template=prompt_template, input_variables=[\"question\", \"context\"])\n",
    "#\n",
    "chain_type_kwargs = {\"prompt\": PROMPT}"
   ]
  },
  {
   "cell_type": "markdown",
   "id": "191e0400-f14e-4148-8b58-56f4834a9c04",
   "metadata": {},
   "source": [
    "### Using the Domino AI Gateway Endpoint via Langchain ChatMLflow object"
   ]
  },
  {
   "cell_type": "markdown",
   "id": "85be1666-e230-453a-b59e-56ab3bdf31db",
   "metadata": {},
   "source": [
    "To use a different model, change the ```endpoint``` parameter to a different endpoint name.  "
   ]
  },
  {
   "cell_type": "code",
   "execution_count": 14,
   "id": "717c3471-7e9c-41b0-bd21-a98a470e7ade",
   "metadata": {
    "tags": []
   },
   "outputs": [],
   "source": [
    "rag_llm = ChatMlflow(\n",
    "        target_uri=os.environ[\"DOMINO_MLFLOW_DEPLOYMENTS\"],\n",
    "        endpoint=\"chat-gpt35turbo-ja\", \n",
    "        temperature=1.0,\n",
    "    )"
   ]
  },
  {
   "cell_type": "markdown",
   "id": "0786f1d6-24a9-4e67-a29a-f9f900d3117c",
   "metadata": {},
   "source": [
    "### Initialize the  RetrievalQA chain for answering questions from the embedded data in the vectorstore"
   ]
  },
  {
   "cell_type": "code",
   "execution_count": 15,
   "id": "0f8c9915-2be6-4b90-9ce7-8a2c99d7cdb1",
   "metadata": {
    "tags": []
   },
   "outputs": [],
   "source": [
    "qa_chain = RetrievalQA.from_chain_type(llm=rag_llm, # AI Gateway Endpoint\n",
    "                                       chain_type=\"stuff\",\n",
    "                                       chain_type_kwargs={\"prompt\": PROMPT},\n",
    "                                       retriever=vectorstore.as_retriever(search_kwargs={\"k\": 5}), # Domino Pinecone Data Source\n",
    "                                       return_source_documents=True\n",
    "                                      )"
   ]
  },
  {
   "cell_type": "markdown",
   "id": "1f862edf-3990-4247-a7dd-54ae805cd7d2",
   "metadata": {},
   "source": [
    "### Get question to answer in the docs and run the chain"
   ]
  },
  {
   "cell_type": "code",
   "execution_count": 16,
   "id": "6ea7d8f4-76c5-4d45-8f83-db0215ac8b68",
   "metadata": {
    "tags": []
   },
   "outputs": [
    {
     "name": "stdin",
     "output_type": "stream",
     "text": [
      "Please ask your policy question: what about maternity?\n"
     ]
    }
   ],
   "source": [
    "user_question = input(\"Please ask your policy question:\")\n",
    "result = qa_chain(user_question)"
   ]
  },
  {
   "cell_type": "markdown",
   "id": "de30e26a-5fae-454c-9100-7013c7624a8a",
   "metadata": {},
   "source": [
    "### Retrieve the result"
   ]
  },
  {
   "cell_type": "code",
   "execution_count": 17,
   "id": "e2f5476f-6fa3-48ad-99d9-8737e1608034",
   "metadata": {
    "tags": []
   },
   "outputs": [
    {
     "data": {
      "text/plain": [
       "'Northwind Health Plus provides comprehensive coverage for maternity care, including prenatal and post-natal care, and labor and delivery services. Prenatal care, delivery, and post-natal care are all covered, including necessary treatments, tests, medications, and follow-up care for up to six weeks post-delivery. However, the coverage does not include services for pre-existing conditions or elective procedures. If you have questions about your coverage or need help understanding the policy, you can contact the Member Services team at 1-800-123-4567.'"
      ]
     },
     "execution_count": 17,
     "metadata": {},
     "output_type": "execute_result"
    }
   ],
   "source": [
    "result['result']"
   ]
  },
  {
   "cell_type": "markdown",
   "id": "4d4642fd-5d68-405b-8861-b39b23ffd7f2",
   "metadata": {},
   "source": [
    "### Display Source Documents retrieved from the vector store and used for the answer"
   ]
  },
  {
   "cell_type": "code",
   "execution_count": 18,
   "id": "dd4c9507-2542-4da2-9da1-8a1ef645e8e3",
   "metadata": {
    "tags": []
   },
   "outputs": [
    {
     "data": {
      "text/plain": [
       "'coverage for maternity care, including prenatal and post -natal care and labor and delivery \\nservices.  \\nPrenatal Care  \\nPrenatal care is essential for both the mother and baby, as it helps to ensur e the health and \\nsafety of both during pregnancy. Northwind Health Plus covers all services related to \\nprenatal care, including office visits, tests, and ultrasounds. Additionally, Northwind Health \\nPlus covers any necessary vaccines or medications that may  be prescribed by your doctor \\nduring prenatal care.  \\nDelivery and Post -natal Care  \\nNorthwind Health Plus covers all services related to the delivery of your baby, including \\nlabor and delivery, as well as post -natal care for both mother and baby. This includ es any \\nnecessary treatments, tests, or medications prescribed by your doctor. Northwind Health \\nPlus also covers any necessary follow -up care for both mother and baby for up to six weeks \\npost -delivery.  \\nExceptions'"
      ]
     },
     "execution_count": 18,
     "metadata": {},
     "output_type": "execute_result"
    }
   ],
   "source": [
    "result['source_documents'][0].page_content"
   ]
  },
  {
   "cell_type": "code",
   "execution_count": null,
   "id": "132e0fbc-8eda-4f15-bd3a-422a590f2588",
   "metadata": {},
   "outputs": [],
   "source": []
  }
 ],
 "metadata": {
  "dca-init": "true",
  "kernelspec": {
   "display_name": "Python 3 (ipykernel)",
   "language": "python",
   "name": "python3"
  },
  "language_info": {
   "codemirror_mode": {
    "name": "ipython",
    "version": 3
   },
   "file_extension": ".py",
   "mimetype": "text/x-python",
   "name": "python",
   "nbconvert_exporter": "python",
   "pygments_lexer": "ipython3",
   "version": "3.10.12"
  }
 },
 "nbformat": 4,
 "nbformat_minor": 5
}
