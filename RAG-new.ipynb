{
 "cells": [
  {
   "cell_type": "code",
   "execution_count": 3,
   "id": "ed9d9425-28d8-4662-8763-1440954d6595",
   "metadata": {
    "tags": []
   },
   "outputs": [],
   "source": [
    "import os\n",
    "from langchain.embeddings.openai import OpenAIEmbeddings\n",
    "from langchain import PromptTemplate\n",
    "from langchain.chains import RetrievalQA\n",
    "from langchain.chat_models import ChatOpenAI\n",
    "from langchain.vectorstores.pinecone import Pinecone\n",
    "#from domino_data.vectordb import DominoPineconeConfiguration\n",
    "from mlflow.deployments import get_deploy_client\n",
    "from langchain_community.embeddings import MlflowEmbeddings\n",
    "from langchain_community.chat_models import ChatMlflow\n",
    "\n",
    "import pinecone\n",
    "from getpass import getpass\n",
    "import warnings\n",
    "warnings.filterwarnings('ignore')"
   ]
  },
  {
   "cell_type": "code",
   "execution_count": 4,
   "id": "575bea48-9c75-4d31-bb01-0b111d494281",
   "metadata": {
    "tags": []
   },
   "outputs": [],
   "source": [
    "#os.environ['ANTHROPIC_API_KEY'] = getpass(\"Enter Anthropic key:\")\n",
    "#os.environ['OPENAI_API_KEY'] = getpass(\"Enter OpenAI API key:\")\n",
    "#os.environ['PINECONE_API_KEY'] = getpass(\"Enter Pinecone API key:\")\n",
    "#os.environ['PINECONE_ENV'] = getpass(\"Enter Pinecone Environment:\")\n",
    "\n",
    "OPENAI_API_KEY = os.getenv('OPENAI_API_KEY') \n",
    "PINECONE_API_KEY = os.getenv('PINECONE_API_KEY')\n",
    "PINECONE_ENV = os.getenv('PINECONE_API_ENV')\n",
    "os.environ['TOKENIZERS_PARALLELISM'] = 'false'"
   ]
  },
  {
   "cell_type": "code",
   "execution_count": 5,
   "id": "38c4e74a-8525-4d86-8119-82f0d9a92254",
   "metadata": {},
   "outputs": [],
   "source": [
    "# Create embeddings to embed queries\n",
    "embed = MlflowEmbeddings(\n",
    "    target_uri=os.environ[\"DOMINO_MLFLOW_DEPLOYMENTS\"],\n",
    "    endpoint=\"embedding-ada-002ja\",\n",
    ")"
   ]
  },
  {
   "cell_type": "code",
   "execution_count": 7,
   "id": "ffb3b605-372b-4be3-8f88-a7159f6a6740",
   "metadata": {
    "tags": []
   },
   "outputs": [],
   "source": [
    "text_field = \"symptoms\"\n",
    "\n",
    "datasource_name = \"MedRAG-JA\"\n",
    "#conf = DominoPineconeConfiguration(datasource=datasource_name)\n",
    "\n",
    "#api_key = os.environ.get(\"DOMINO_VECTOR_DB_METADATA\", datasource_name)\n",
    "api_key = PINECONE_API_KEY\n",
    "# initialize pinecone\n",
    "pinecone.init(\n",
    "    api_key=api_key,\n",
    "    environment=PINECONE_ENV,\n",
    "   # openapi_config=conf\n",
    ")\n",
    "\n",
    "index_name = \"medical-qa-search\"\n",
    "index = pinecone.Index(index_name)\n",
    "\n",
    "# switch back to normal index for langchain\n",
    "vectorstore = Pinecone(\n",
    "    index, embed.embed_query, text_field\n",
    ")"
   ]
  },
  {
   "cell_type": "code",
   "execution_count": 8,
   "id": "98508dd7-7c3c-4d10-bc07-5c4d92e3eab4",
   "metadata": {
    "tags": []
   },
   "outputs": [],
   "source": [
    "prompt_template = \"\"\"Use the following pieces of context to answer the question enclosed within  3 backticks at the end. If you don't know the answer, just say that you don't know, don't try to make up an answer.\n",
    "Please provide an answer which is factually correct and based on the information retrieved from the vector store.\n",
    "Please also mention any quotes supporting the answer if any present in the context supplied within two double quotes \"\" .\n",
    "\n",
    "{context}\n",
    "\n",
    "QUESTION:```{question}```\n",
    "ANSWER:\n",
    "\"\"\"\n",
    "PROMPT = PromptTemplate(template=prompt_template, input_variables=[\"context\",\"question\"])\n",
    "#\n",
    "chain_type_kwargs = {\"prompt\": PROMPT}"
   ]
  },
  {
   "cell_type": "code",
   "execution_count": 9,
   "id": "ff183bb7-afa7-4f16-8bc7-66ba116d6a3b",
   "metadata": {},
   "outputs": [],
   "source": [
    "rag_llm = ChatOpenAI(\n",
    "    openai_api_key=OPENAI_API_KEY,\n",
    "    model_name='gpt-4',\n",
    "    temperature=0.0\n",
    ")"
   ]
  },
  {
   "cell_type": "code",
   "execution_count": 10,
   "id": "0f8c9915-2be6-4b90-9ce7-8a2c99d7cdb1",
   "metadata": {
    "tags": []
   },
   "outputs": [],
   "source": [
    "qa_chain = RetrievalQA.from_chain_type(llm=rag_llm,\n",
    "                                       chain_type=\"stuff\",\n",
    "                                       chain_type_kwargs={\"prompt\": PROMPT},\n",
    "                                       retriever=vectorstore.as_retriever(search_kwargs={\"k\": 5}),\n",
    "                                       return_source_documents=True\n",
    "                                      )"
   ]
  },
  {
   "cell_type": "code",
   "execution_count": 13,
   "id": "6ea7d8f4-76c5-4d45-8f83-db0215ac8b68",
   "metadata": {
    "tags": []
   },
   "outputs": [
    {
     "name": "stdin",
     "output_type": "stream",
     "text": [
      "Please provide the symptoms here : what are the symptoms of shingles\n"
     ]
    }
   ],
   "source": [
    "user_question = input(\"Please provide the symptoms here :\")\n",
    "result = qa_chain(user_question)"
   ]
  },
  {
   "cell_type": "code",
   "execution_count": 14,
   "id": "e2f5476f-6fa3-48ad-99d9-8737e1608034",
   "metadata": {
    "tags": []
   },
   "outputs": [
    {
     "data": {
      "text/plain": [
       "'The symptoms of shingles include pain or a tingling sensation in a limited area on one side of the face or torso, a red rash with small fluid-filled blisters, sensitivity to touch, itching, fever, headache, sensitivity to light, and fatigue. Pain is usually the first symptom of shingles and can sometimes be intense. The shingles rash most commonly develops as a stripe of blisters that wraps around either the left or right side of the torso, but it can also occur around one eye or on one side of the neck or face. Some people experience shingles pain without ever developing the rash.'"
      ]
     },
     "execution_count": 14,
     "metadata": {},
     "output_type": "execute_result"
    }
   ],
   "source": [
    "result['result']"
   ]
  },
  {
   "cell_type": "code",
   "execution_count": 15,
   "id": "dd4c9507-2542-4da2-9da1-8a1ef645e8e3",
   "metadata": {
    "tags": []
   },
   "outputs": [
    {
     "data": {
      "text/plain": [
       "' Shingles is characterized by pain or a tingling sensation in a limited area on one side of the face or torso followed by a red rash with small fluid-filled blisters.  The signs and symptoms of shingles usually affect only a small section of one side of your body. These signs and symptoms may include: Some people also experience: Pain is usually the first symptom of shingles. For some it can be intense. Depending on the location of the pain it can sometimes be mistaken for a symptom of problems affecting the heart lungs or kidneys. Some people experience shingles pain without ever developing the rash. Most commonly the shingles rash develops as a stripe of blisters that wraps around either the left or right side of your torso. Sometimes the shingles rash occurs around one eye or on one side of the neck or face. Contact your doctor promptly if you suspect shingles but especially in the following situations:      Pain burning numbness or tingling Sensitivity to touch A red rash that begins a few days after the pain Fluid-filled blisters that break open and crust over Itching Fever Headache Sensitivity to light Fatigue The pain and rash occur near an eye. If left untreated this infection can lead to permanent eye damage. Youre 60 or older because age significantly increases your risk of complications. You or someone in your family has a weakened immune system (due to cancer medications or chronic illness). The rash is widespread and painful.'"
      ]
     },
     "execution_count": 15,
     "metadata": {},
     "output_type": "execute_result"
    }
   ],
   "source": [
    "result['source_documents'][0].page_content"
   ]
  },
  {
   "cell_type": "code",
   "execution_count": 16,
   "id": "e4f58719-e68b-480a-933d-9d04afdf8e1c",
   "metadata": {},
   "outputs": [
    {
     "data": {
      "text/plain": [
       "{'causes': ' The shingles rash is associated with an inflammation of nerves beneath the skin.  Shingles is caused by the varicella-zoster virus — the same virus that causes chickenpox. Anyone whos had chickenpox may develop shingles. After you recover from chickenpox the virus can enter your nervous system and lie dormant for years. Eventually it may reactivate and travel along nerve pathways to your skin — producing shingles. But not everyone whos had chickenpox will develop shingles. The reason for shingles is unclear. But it may be due to lowered immunity to infections as you grow older. Shingles is more common in older adults and in people who have weakened immune systems. Varicella-zoster is part of a group of viruses called herpes viruses which includes the viruses that cause cold sores and genital herpes. Because of this shingles is also known as herpes zoster. But the virus that causes chickenpox and shingles is not the same virus responsible for cold sores or genital herpes a sexually transmitted infection. A person with shingles can pass the varicella-zoster virus to anyone who isnt immune to chickenpox. This usually occurs through direct contact with the open sores of the shingles rash. Once infected the person will develop chickenpox however not shingles. Chickenpox can be dangerous for some people. Until your shingles blisters scab over you are contagious and should avoid physical contact with anyone who hasnt yet had chickenpox or the chickenpox vaccine especially people with weakened immune systems pregnant women and newborns.   ',\n",
       " 'diagnosis': 'Shingles is usually diagnosed based on the history of pain on one side of your body along with the telltale rash and blisters. Your doctor may also take a tissue scraping or culture of the blisters for examination in the laboratory.',\n",
       " 'link': 'https://www.mayoclinic.org/diseases-conditions/shingles/symptoms-causes/syc-20353054',\n",
       " 'name': 'Zoster (See: Zoster also known asShingles)',\n",
       " 'overview': 'Shingles is a viral infection that causes a painful rash. Although shingles can occur anywhere on your body it most often appears as a single stripe of blisters that wraps around either the left or the right side of your torso. Shingles is caused by the varicella-zoster virus — the same virus that causes chickenpox. After youve had chickenpox the virus lies inactive in nerve tissue near your spinal cord and brain. Years later the virus may reactivate as shingles. While it isnt a life-threatening condition shingles can be very painful. Vaccines can help reduce the risk of shingles while early treatment can help shorten a shingles infection and lessen the chance of complications. Book: Mayo Clinic Book of Home Remedies',\n",
       " 'riskf': 'Anyone who has ever had chickenpox can develop shingles. Most adults in the United States had chickenpox when they were children before the advent of the routine childhood vaccination that now protects against chickenpox. Factors that may increase your risk of developing shingles include:    Being older than 50. Shingles is most common in people older than 50. The risk increases with age. Some experts estimate that half the people age 80 and older will have shingles. Having certain diseases. Diseases that weaken your immune system such as HIV/AIDS and cancer can increase your risk of shingles. Undergoing cancer treatments. Radiation or chemotherapy can lower your resistance to diseases and may trigger shingles. Taking certain medications. Drugs designed to prevent rejection of transplanted organs can increase your risk of shingles — as can prolonged use of steroids such as prednisone.'}"
      ]
     },
     "execution_count": 16,
     "metadata": {},
     "output_type": "execute_result"
    }
   ],
   "source": [
    "result['source_documents'][0].metadata"
   ]
  },
  {
   "cell_type": "code",
   "execution_count": null,
   "id": "132e0fbc-8eda-4f15-bd3a-422a590f2588",
   "metadata": {},
   "outputs": [],
   "source": []
  }
 ],
 "metadata": {
  "dca-init": "true",
  "kernelspec": {
   "display_name": "Python 3 (ipykernel)",
   "language": "python",
   "name": "python3"
  },
  "language_info": {
   "codemirror_mode": {
    "name": "ipython",
    "version": 3
   },
   "file_extension": ".py",
   "mimetype": "text/x-python",
   "name": "python",
   "nbconvert_exporter": "python",
   "pygments_lexer": "ipython3",
   "version": "3.9.18"
  }
 },
 "nbformat": 4,
 "nbformat_minor": 5
}
