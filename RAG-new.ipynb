{
 "cells": [
  {
   "cell_type": "code",
   "execution_count": 23,
   "id": "ed9d9425-28d8-4662-8763-1440954d6595",
   "metadata": {
    "tags": []
   },
   "outputs": [],
   "source": [
    "import os\n",
    "from langchain.embeddings.openai import OpenAIEmbeddings\n",
    "from langchain import PromptTemplate\n",
    "from langchain.chains import RetrievalQA\n",
    "from langchain.chat_models import ChatOpenAI\n",
    "from langchain.vectorstores.pinecone import Pinecone\n",
    "#from domino_data.vectordb import DominoPineconeConfiguration\n",
    "from mlflow.deployments import get_deploy_client\n",
    "from langchain_community.embeddings import MlflowEmbeddings\n",
    "from langchain_community.chat_models import ChatMlflow\n",
    "\n",
    "import pinecone\n",
    "from getpass import getpass\n",
    "import warnings\n",
    "warnings.filterwarnings('ignore')"
   ]
  },
  {
   "cell_type": "code",
   "execution_count": 24,
   "id": "575bea48-9c75-4d31-bb01-0b111d494281",
   "metadata": {
    "tags": []
   },
   "outputs": [],
   "source": [
    "#os.environ['ANTHROPIC_API_KEY'] = getpass(\"Enter Anthropic key:\")\n",
    "#os.environ['OPENAI_API_KEY'] = getpass(\"Enter OpenAI API key:\")\n",
    "#os.environ['PINECONE_API_KEY'] = getpass(\"Enter Pinecone API key:\")\n",
    "#os.environ['PINECONE_ENV'] = getpass(\"Enter Pinecone Environment:\")\n",
    "\n",
    "OPENAI_API_KEY = os.getenv('OPENAI_API_KEY') \n",
    "PINECONE_API_KEY = os.getenv('PINECONE_API_KEY')\n",
    "PINECONE_ENV = os.getenv('PINECONE_API_ENV')\n",
    "os.environ['TOKENIZERS_PARALLELISM'] = 'false'"
   ]
  },
  {
   "cell_type": "code",
   "execution_count": 25,
   "id": "38c4e74a-8525-4d86-8119-82f0d9a92254",
   "metadata": {},
   "outputs": [],
   "source": [
    "# Create embeddings to embed queries\n",
    "embed = MlflowEmbeddings(\n",
    "    target_uri=os.environ[\"DOMINO_MLFLOW_DEPLOYMENTS\"],\n",
    "    endpoint=\"embedding-ada-002ja\",\n",
    ")"
   ]
  },
  {
   "cell_type": "code",
   "execution_count": 26,
   "id": "ffb3b605-372b-4be3-8f88-a7159f6a6740",
   "metadata": {
    "tags": []
   },
   "outputs": [],
   "source": [
    "text_field = \"symptoms\"\n",
    "\n",
    "datasource_name = \"MedRAG-JA\"\n",
    "\n",
    "#Vector Access \n",
    "conf = DominoPineconeConfiguration(datasource=datasource_name)\n",
    "\n",
    "api_key = os.environ.get(\"DOMINO_VECTOR_DB_METADATA\", datasource_name)\n",
    "\n",
    "# initialize pinecone\n",
    "pinecone.init(\n",
    "    api_key=api_key,\n",
    "    environment=PINECONE_ENV,\n",
    "    openapi_config=conf\n",
    ")\n",
    "\n",
    "index_name = \"medical-qa-search\"\n",
    "index = pinecone.Index(index_name)\n",
    "\n",
    "# switch back to normal index for langchain\n",
    "vectorstore = Pinecone(\n",
    "    index, embed.embed_query, text_field\n",
    ")"
   ]
  },
  {
   "cell_type": "code",
   "execution_count": 27,
   "id": "98508dd7-7c3c-4d10-bc07-5c4d92e3eab4",
   "metadata": {
    "tags": []
   },
   "outputs": [],
   "source": [
    "prompt_template = \"\"\"Use the following pieces of context to answer the question enclosed within  3 backticks at the end. If you don't know the answer, just say that you don't know, don't try to make up an answer.\n",
    "Please provide an answer which is factually correct and based on the information retrieved from the vector store.\n",
    "Please also mention any quotes supporting the answer if any present in the context supplied within two double quotes \"\" .\n",
    "\n",
    "{context}\n",
    "\n",
    "QUESTION:```{question}```\n",
    "ANSWER:\n",
    "\"\"\"\n",
    "PROMPT = PromptTemplate(template=prompt_template, input_variables=[\"context\",\"question\"])\n",
    "#\n",
    "chain_type_kwargs = {\"prompt\": PROMPT}"
   ]
  },
  {
   "cell_type": "code",
   "execution_count": 33,
   "id": "ff183bb7-afa7-4f16-8bc7-66ba116d6a3b",
   "metadata": {},
   "outputs": [],
   "source": [
    "rag_llm = ChatOpenAI(\n",
    "    openai_api_key=OPENAI_API_KEY,\n",
    "    model_name='gpt-4',\n",
    "    temperature=0.0\n",
    ")"
   ]
  },
  {
   "cell_type": "code",
   "execution_count": 32,
   "id": "717c3471-7e9c-41b0-bd21-a98a470e7ade",
   "metadata": {},
   "outputs": [],
   "source": [
    "# Using the AI Gateway Endpoint\n",
    "rag_llm = ChatMlflow(\n",
    "        target_uri=os.environ[\"DOMINO_MLFLOW_DEPLOYMENTS\"],\n",
    "        endpoint=\"chat-gpt4-ja\"\n",
    "    )"
   ]
  },
  {
   "cell_type": "code",
   "execution_count": 29,
   "id": "0f8c9915-2be6-4b90-9ce7-8a2c99d7cdb1",
   "metadata": {
    "tags": []
   },
   "outputs": [],
   "source": [
    "qa_chain = RetrievalQA.from_chain_type(llm=rag_llm,\n",
    "                                       chain_type=\"stuff\",\n",
    "                                       chain_type_kwargs={\"prompt\": PROMPT},\n",
    "                                       retriever=vectorstore.as_retriever(search_kwargs={\"k\": 5}),\n",
    "                                       return_source_documents=True\n",
    "                                      )"
   ]
  },
  {
   "cell_type": "code",
   "execution_count": 30,
   "id": "6ea7d8f4-76c5-4d45-8f83-db0215ac8b68",
   "metadata": {
    "tags": []
   },
   "outputs": [
    {
     "name": "stdin",
     "output_type": "stream",
     "text": [
      "Please provide the symptoms here : What are the symptoms of alcoholic hepatitis?\n"
     ]
    }
   ],
   "source": [
    "user_question = input(\"Please provide the symptoms here :\")\n",
    "result = qa_chain(user_question)"
   ]
  },
  {
   "cell_type": "code",
   "execution_count": 31,
   "id": "e2f5476f-6fa3-48ad-99d9-8737e1608034",
   "metadata": {
    "tags": []
   },
   "outputs": [
    {
     "data": {
      "text/plain": [
       "'The symptoms of alcoholic hepatitis include yellowing of the skin and whites of the eyes (jaundice), loss of appetite, nausea and vomiting, abdominal tenderness, fever often low grade, fatigue and weakness, fluid accumulation in the abdomen (ascites), confusion and behavior changes due to a buildup of toxins normally broken down and eliminated by the liver, and kidney and liver failure. Malnutrition is also common in people with alcoholic hepatitis.'"
      ]
     },
     "execution_count": 31,
     "metadata": {},
     "output_type": "execute_result"
    }
   ],
   "source": [
    "result['result']"
   ]
  },
  {
   "cell_type": "code",
   "execution_count": 34,
   "id": "dd4c9507-2542-4da2-9da1-8a1ef645e8e3",
   "metadata": {
    "tags": []
   },
   "outputs": [
    {
     "data": {
      "text/plain": [
       "'The most common sign of alcoholic hepatitis is yellowing of the skin and whites of the eyes (jaundice). Other signs and symptoms include: Malnutrition is common in people with alcoholic hepatitis. Drinking large amounts of alcohol suppresses the appetite and heavy drinkers get most of their calories from alcohol. Additional signs and symptoms that occur with severe alcoholic hepatitis include: Alcoholic hepatitis is a serious often deadly disease. See your doctor if you:        Loss of appetite Nausea and vomiting Abdominal tenderness Fever often low grade Fatigue and weakness Fluid accumulation in your abdomen (ascites) Confusion and behavior changes due to a buildup of toxins normally broken down and eliminated by the liver Kidney and liver failure Have signs or symptoms of alcoholic hepatitis Cant control your drinking Would like help cutting back on your drinking'"
      ]
     },
     "execution_count": 34,
     "metadata": {},
     "output_type": "execute_result"
    }
   ],
   "source": [
    "result['source_documents'][0].page_content"
   ]
  },
  {
   "cell_type": "code",
   "execution_count": null,
   "id": "132e0fbc-8eda-4f15-bd3a-422a590f2588",
   "metadata": {},
   "outputs": [],
   "source": []
  }
 ],
 "metadata": {
  "dca-init": "true",
  "kernelspec": {
   "display_name": "Python 3 (ipykernel)",
   "language": "python",
   "name": "python3"
  },
  "language_info": {
   "codemirror_mode": {
    "name": "ipython",
    "version": 3
   },
   "file_extension": ".py",
   "mimetype": "text/x-python",
   "name": "python",
   "nbconvert_exporter": "python",
   "pygments_lexer": "ipython3",
   "version": "3.9.18"
  }
 },
 "nbformat": 4,
 "nbformat_minor": 5
}
