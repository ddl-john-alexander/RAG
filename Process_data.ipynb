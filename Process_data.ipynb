{
 "cells": [
  {
   "cell_type": "markdown",
   "id": "7d7a6e7b-05c5-4197-b969-7d8628e8bfe3",
   "metadata": {},
   "source": [
    "# Process The Data "
   ]
  },
  {
   "cell_type": "markdown",
   "id": "52871ad2-7ae6-4c54-b140-fd2ce98310fb",
   "metadata": {},
   "source": [
    "## Load the needed libraries"
   ]
  },
  {
   "cell_type": "code",
   "execution_count": 18,
   "id": "271e2708-d901-4d29-bfbf-349712a1b0f4",
   "metadata": {},
   "outputs": [],
   "source": [
    "from langchain.chat_models import ChatOpenAI\n",
    "from langchain.document_loaders import PyPDFLoader\n",
    "from langchain.text_splitter import RecursiveCharacterTextSplitter\n",
    "from langchain.vectorstores.pinecone import Pinecone\n",
    "from mlflow.deployments import get_deploy_client\n",
    "from langchain_community.embeddings import MlflowEmbeddings\n",
    "from domino_data.vectordb import DominoPineconeConfiguration\n",
    "\n",
    "\n",
    "import pinecone\n",
    "\n",
    "import os\n",
    "import random\n",
    "import warnings\n",
    "warnings.filterwarnings('ignore')"
   ]
  },
  {
   "cell_type": "code",
   "execution_count": 4,
   "id": "386ebb4b-6b00-4077-9030-7ba156b99e28",
   "metadata": {},
   "outputs": [],
   "source": [
    "# Set environment variables\n",
    "PINECONE_ENV = os.getenv('PINECONE_API_ENV')"
   ]
  },
  {
   "cell_type": "markdown",
   "id": "9c4cd26b-b0cc-4365-b0a3-1413f5cd9689",
   "metadata": {},
   "source": [
    "### Load and chunk the PDF document "
   ]
  },
  {
   "cell_type": "code",
   "execution_count": 3,
   "id": "8ae3bc09-8896-4e61-b9a1-61809deccec7",
   "metadata": {},
   "outputs": [],
   "source": [
    "# Load and chunk PDF using pypdf into documents array \n",
    "# where each document contains the page content and metadata with page number.\n",
    "loader = PyPDFLoader(\"/mnt/code/data/Northwind_Health_Plus_Benefits_Details.pdf\")\n",
    "texts = loader.load_and_split(RecursiveCharacterTextSplitter(chunk_size=1000, chunk_overlap=0))"
   ]
  },
  {
   "cell_type": "code",
   "execution_count": 5,
   "id": "4b96501d-1a7c-4858-a5ec-f8024f8444f8",
   "metadata": {},
   "outputs": [
    {
     "name": "stdout",
     "output_type": "stream",
     "text": [
      "There are 378 pages in the document\n"
     ]
    }
   ],
   "source": [
    "# Check the number of pages\n",
    "print(f\"There are {len(texts)} pages in the document\")"
   ]
  },
  {
   "cell_type": "code",
   "execution_count": 6,
   "id": "2712c962-cf41-43da-b0ee-641e57753e60",
   "metadata": {},
   "outputs": [
    {
     "name": "stdout",
     "output_type": "stream",
     "text": [
      "page_content='prior authorizat ion if it is determined that the services are medically necessary. However, \\nplease contact Northwind Health Plus to ensure that the outpatient rehabilitative provider \\nyou are visiting is an in -network provider.  \\nLong -Term Care Services: Long -term care serv ices are covered without prior authorization \\nif it is determined that the services are medically necessary. Please contact Northwind \\nHealth Plus to ensure that the long -term care provider you are visiting is an in -network \\nprovider.  \\nHospice Care Services: Hospice care services are covered without prior authorization if it is \\ndetermined that the services are medically necessary. Please contact Northwind Health Plus \\nto ensure that the hospice care provider you are visiting is an in -network provider.  \\nHome Hea lth Services: Home health services are covered without prior authorization if it is \\ndetermined that the services are medically necessary. Please contact Northwind Health Plus' metadata={'source': '/mnt/code/data/Northwind_Health_Plus_Benefits_Details.pdf', 'page': 67}\n"
     ]
    }
   ],
   "source": [
    "# Pick a sample page\n",
    "print(texts[random.randint(0, len(texts))])"
   ]
  },
  {
   "cell_type": "markdown",
   "id": "5841b4bf-04c3-44eb-b2b0-4980ab0894b8",
   "metadata": {},
   "source": [
    "### Create embeddings to embed queries using Domino AI Gateway Endpoint in LangChain"
   ]
  },
  {
   "cell_type": "code",
   "execution_count": 19,
   "id": "319838d7-fbcb-4546-a991-3feffc1ae588",
   "metadata": {},
   "outputs": [],
   "source": [
    "embed = MlflowEmbeddings(\n",
    "    target_uri=os.environ[\"DOMINO_MLFLOW_DEPLOYMENTS\"],\n",
    "    endpoint=\"embedding-ada-002ja2\",\n",
    ")"
   ]
  },
  {
   "cell_type": "code",
   "execution_count": 9,
   "id": "a457b90a-0fa5-4dd3-a2ad-488b9cb6923f",
   "metadata": {},
   "outputs": [
    {
     "data": {
      "text/plain": [
       "{'dimension': 1536,\n",
       " 'index_fullness': 0.00318,\n",
       " 'namespaces': {'': {'vector_count': 318}},\n",
       " 'total_vector_count': 318}"
      ]
     },
     "execution_count": 9,
     "metadata": {},
     "output_type": "execute_result"
    }
   ],
   "source": [
    "# Check index current stats:\n",
    "index.describe_index_stats()"
   ]
  },
  {
   "cell_type": "markdown",
   "id": "aba86ec3-676b-4a8b-b1d1-5811e197227e",
   "metadata": {},
   "source": [
    "### Initialize Pinecone client connection using a Domino-specific Environment"
   ]
  },
  {
   "cell_type": "code",
   "execution_count": 8,
   "id": "ea847e2d-6803-4551-8ef0-5fb699daa208",
   "metadata": {},
   "outputs": [],
   "source": [
    "datasource_name = \"nwh-benefits\"\n",
    "\n",
    "#Vector Access \n",
    "conf = DominoPineconeConfiguration(datasource=datasource_name)\n",
    "\n",
    "# api_key variable is a mandatory non-empty field used for \n",
    "# the native pinecone python client initialization \n",
    "api_key = os.environ.get(\"DOMINO_VECTOR_DB_METADATA\", datasource_name)\n",
    "\n",
    "# Initialize pinecone\n",
    "pinecone.init(\n",
    "    api_key=api_key,\n",
    "    environment=PINECONE_ENV,\n",
    "    openapi_config=conf\n",
    ")\n",
    "\n",
    "# Previously created index\n",
    "index_name = \"nwh-plus-benefits\"\n",
    "index = pinecone.Index(index_name)"
   ]
  },
  {
   "cell_type": "code",
   "execution_count": 10,
   "id": "3110e5ad-92de-4687-b519-b8e4d1552d77",
   "metadata": {},
   "outputs": [],
   "source": [
    "#\n",
    "docsearch = Pinecone.from_texts([t.page_content for t in texts], embed.embed_query, index_name=index_name)"
   ]
  },
  {
   "cell_type": "markdown",
   "id": "6ee33d2a-efad-4099-aaf3-68121b1dafae",
   "metadata": {},
   "source": [
    "### Test with similarity search"
   ]
  },
  {
   "cell_type": "code",
   "execution_count": 17,
   "id": "c7aaca02-a362-404b-aa57-89b51c716323",
   "metadata": {},
   "outputs": [],
   "source": [
    "# Ask your query\n",
    "query = \"Does my policy cover hearing?\"\n",
    "# Get the closest matches to create some context and information for the answer\n",
    "docs = docsearch.similarity_search(query)"
   ]
  },
  {
   "cell_type": "code",
   "execution_count": 14,
   "id": "e1fcac32-47c9-439e-bc05-1b876f733e7e",
   "metadata": {},
   "outputs": [
    {
     "name": "stdout",
     "output_type": "stream",
     "text": [
      "[Document(page_content='other expenses that you may incur as a result of an accident. However, it is important to \\nnote that UM/UIM coverage only applies when the other driver is at fault, and does not \\ncover damage to your vehicle or property.  \\nThere are a few exceptions to the coverage provided by UM/UIM coverage. For example, it \\ndoes not cover intentional acts of another driver, damage caused by an uninsured or \\nunderinsured driver in a hit -and-run accident, or damage to your vehicle or property.  \\nIt is important to understand the limits of your UM/UIM coverage and any exclusions that \\nmay apply. You should make sure to review your policy thoroughly to ensure that you are \\nproperly covered.  \\nIn addit ion to understanding the limits of your coverage, there are other tips that you can \\nuse to help protect yourself in the event of an accident.  \\nFirst, make sure that you have a valid driver’s license and that the other driver does as well.'), Document(page_content='Exceptions  \\nThis coverage does not include services or treatments for any pre -existing conditions. It \\nalso does not include any elective services such as cosmetic procedures.  \\nTips for Employees  \\n• If you are pregnant, it is important to make sure that you understand the coverage \\navailable under the Northwind Health Plus plan. Talk to your doctor and make sure that you \\nhave a plan for delivery and postpartum care that is covered by your insurance.  \\n• Make sure that you understand the newborn screening tests that are covered and any \\nfollow -up treatments or visits that may be required.  \\n• If you are planning to use a birthing facility other than a hospital, make sure that you \\ncheck to see if it is cov ered under the plan.'), Document(page_content=\"When considering a medical service or treatment, it is important to review the plan's \\nevidence of coverage to ensure that the service or treatment is covered under the plan. You \\nshould also discuss the service or treatment with your doctor to ensure that i t is medically \\nnecessary. Additionally, you should review the list of excluded services and prescriptions to \\nensure that you are not seeking treatment for an excluded service or prescription.  \\nIf you are considering a medical service or treatment that is n ot covered under the plan, you \\nshould discuss payment options with your doctor or healthcare provider. Additionally, you \\nmay need to consider other payment sources, such as private insurance, flexible spending \\naccounts, or state or federal programs.\"), Document(page_content='There are a few exceptions to the coverage provided by UM/UIM coverage. For example, it \\ndoes not cover intentional acts of another driver, damage caused by an uninsured or \\nunderinsured driver in a hit -and-run accident, or damage to your vehicle or property.  \\nIt is important to understand the limits of your UM/UIM coverage and any exclusions that \\nmay apply. You should make sure to review your policy thoroughly to ensure that you are \\nproperly covered.  \\nIn addit ion to understanding the limits of your coverage, there are other tips that you can \\nuse to help protect yourself in the event of an accident.  \\nFirst, make sure that you have a valid driver’s license and that the other driver does as well. \\nIt’s also importa nt to make sure that the other driver has valid insurance coverage. You may \\nwant to ask to see proof of insurance before you get in the car.  \\nIf you do get into an accident, it’s important to stay calm and take down the other driver’s')]\n"
     ]
    }
   ],
   "source": [
    "print(docs)"
   ]
  },
  {
   "cell_type": "code",
   "execution_count": null,
   "id": "5d1c50e8-832a-42cb-b325-3de3bfc45f4a",
   "metadata": {},
   "outputs": [],
   "source": []
  }
 ],
 "metadata": {
  "kernelspec": {
   "display_name": "Python 3 (ipykernel)",
   "language": "python",
   "name": "python3"
  },
  "language_info": {
   "codemirror_mode": {
    "name": "ipython",
    "version": 3
   },
   "file_extension": ".py",
   "mimetype": "text/x-python",
   "name": "python",
   "nbconvert_exporter": "python",
   "pygments_lexer": "ipython3",
   "version": "3.9.18"
  }
 },
 "nbformat": 4,
 "nbformat_minor": 5
}
