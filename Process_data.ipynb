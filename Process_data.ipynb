{
 "cells": [
  {
   "cell_type": "markdown",
   "id": "7d7a6e7b-05c5-4197-b969-7d8628e8bfe3",
   "metadata": {},
   "source": [
    "# Process The Data "
   ]
  },
  {
   "cell_type": "markdown",
   "id": "2e2bcce2-367d-4c22-88a7-621067d06ed3",
   "metadata": {},
   "source": [
    "Before you can use Retrieval Augmented Generation (RAG) to answer questions about your documents, they need to be preprocessed and loaded or upserted into the vector DB."
   ]
  },
  {
   "cell_type": "markdown",
   "id": "52871ad2-7ae6-4c54-b140-fd2ce98310fb",
   "metadata": {},
   "source": [
    "## Load the needed libraries"
   ]
  },
  {
   "cell_type": "code",
   "execution_count": 1,
   "id": "271e2708-d901-4d29-bfbf-349712a1b0f4",
   "metadata": {
    "tags": []
   },
   "outputs": [
    {
     "name": "stderr",
     "output_type": "stream",
     "text": [
      "/usr/local/lib/python3.10/dist-packages/pydantic/_internal/_config.py:317: UserWarning: Valid config keys have changed in V2:\n",
      "* 'schema_extra' has been renamed to 'json_schema_extra'\n",
      "  warnings.warn(message, UserWarning)\n"
     ]
    }
   ],
   "source": [
    "from langchain.chat_models import ChatOpenAI\n",
    "from langchain.document_loaders import PyPDFLoader\n",
    "from langchain.text_splitter import RecursiveCharacterTextSplitter\n",
    "#from langchain.vectorstores.pinecone import Pinecone\n",
    "from langchain_pinecone import PineconeVectorStore\n",
    "from mlflow.deployments import get_deploy_client\n",
    "from langchain_community.embeddings import MlflowEmbeddings\n",
    "from domino_data.vectordb import domino_pinecone3x_init_params, domino_pinecone3x_index_params\n",
    "\n",
    "from pinecone import Pinecone\n",
    "\n",
    "import os\n",
    "import random\n",
    "import warnings\n",
    "warnings.filterwarnings('ignore')"
   ]
  },
  {
   "cell_type": "markdown",
   "id": "41ad62a5-89b6-454d-9309-2485f0eddfbb",
   "metadata": {},
   "source": [
    "### Set variables"
   ]
  },
  {
   "cell_type": "code",
   "execution_count": 2,
   "id": "8fa2deab-0343-410f-bbcd-effc884d41b0",
   "metadata": {
    "tags": []
   },
   "outputs": [],
   "source": [
    "texts = []\n",
    "metadata = []\n",
    "chunk_size=1000\n",
    "chunk_overlap=200\n",
    "strip_whitespace = True\n",
    "separators=[\"\\n\\n\", \"\\n\", \".\", \" \", \"\"]\n",
    "PINECONE_ENV=\"domino\""
   ]
  },
  {
   "cell_type": "markdown",
   "id": "9c4cd26b-b0cc-4365-b0a3-1413f5cd9689",
   "metadata": {},
   "source": [
    "### Load and chunk the PDF document "
   ]
  },
  {
   "cell_type": "code",
   "execution_count": 3,
   "id": "8ae3bc09-8896-4e61-b9a1-61809deccec7",
   "metadata": {
    "tags": []
   },
   "outputs": [],
   "source": [
    "# Load 1 PDF file\n",
    "loader = PyPDFLoader(\"/mnt/code/data/apple-10K-20230930.pdf\")\n",
    "# or load an entire folder\n",
    "# loader = PyPDFDirectoryLoader(\"/mnt/code/data/\")\n",
    "data = loader.load_and_split(RecursiveCharacterTextSplitter(\n",
    "    chunk_size=chunk_size, \n",
    "    chunk_overlap=chunk_overlap,\n",
    "    strip_whitespace=strip_whitespace,\n",
    "    add_start_index = True,))"
   ]
  },
  {
   "cell_type": "markdown",
   "id": "de7f09cb-ab78-4902-8514-d36d879d5840",
   "metadata": {
    "tags": []
   },
   "source": [
    "### Segment out the content from the metadata to use from_texts() to upsert records into Pinecone"
   ]
  },
  {
   "cell_type": "code",
   "execution_count": 18,
   "id": "2dc1384e-be35-4f8d-9f0c-25364c2cbf96",
   "metadata": {
    "tags": []
   },
   "outputs": [],
   "source": [
    "texts = []\n",
    "for row in data:\n",
    "  texts.append(row.page_content)"
   ]
  },
  {
   "cell_type": "markdown",
   "id": "79b2eda9-66d1-4897-a111-77141039b382",
   "metadata": {
    "tags": []
   },
   "source": [
    "### Check the number of pages in the document"
   ]
  },
  {
   "cell_type": "code",
   "execution_count": 4,
   "id": "4b96501d-1a7c-4858-a5ec-f8024f8444f8",
   "metadata": {
    "tags": []
   },
   "outputs": [
    {
     "name": "stdout",
     "output_type": "stream",
     "text": [
      "There are 361 pages in the document\n"
     ]
    }
   ],
   "source": [
    "print(f\"There are {len(data)} pages in the document\")"
   ]
  },
  {
   "cell_type": "markdown",
   "id": "e20c764a-d776-4e41-bbef-93d357708ff9",
   "metadata": {},
   "source": [
    "### Examine a random sample page"
   ]
  },
  {
   "cell_type": "code",
   "execution_count": 5,
   "id": "2712c962-cf41-43da-b0ee-641e57753e60",
   "metadata": {
    "tags": []
   },
   "outputs": [
    {
     "name": "stdout",
     "output_type": "stream",
     "text": [
      "page_content='Deferred revenue 8,061 7,912 \\nCommercial paper 5,985 9,982 \\nTerm debt 9,822 11,128 \\nTotal current liabilities 145,308 153,982 \\nNon-current liabilities:\\nTerm debt 95,281 98,959 \\nOther non-current liabilities 49,848 49,142 \\nTotal non-current liabilities 145,129 148,101 \\nTotal liabilities 290,437 302,083 \\nCommitments and contingencies\\nShareholders’  equity:\\nCommon stock and additional paid-in capital, $0.00001 par value: 50,400,000 shares authorized; 15,550,061\\nand 15,943,425 shares issued and outstanding, respectively 73,812 64,849 \\nAccumulated deficit (214) (3,068)\\nAccumulated other comprehensive loss (11,452) (11,109)\\nTotal shareholders’  equity 62,146 50,672 \\nTotal liabilities and shareholders’  equity $ 352,583 $ 352,755 \\nSee accompanying Notes to Consolidated Financial Statements.\\nApple Inc. | 2023 Form 10-K | 30' metadata={'source': '/mnt/code/data/apple-10K-20230930.pdf', 'page': 32, 'start_index': 819}\n"
     ]
    }
   ],
   "source": [
    "print(data[random.randint(0, len(data))])"
   ]
  },
  {
   "cell_type": "markdown",
   "id": "5841b4bf-04c3-44eb-b2b0-4980ab0894b8",
   "metadata": {},
   "source": [
    "### Create embeddings to embed queries using Domino AI Gateway Endpoint in LangChain"
   ]
  },
  {
   "cell_type": "code",
   "execution_count": 10,
   "id": "319838d7-fbcb-4546-a991-3feffc1ae588",
   "metadata": {
    "tags": []
   },
   "outputs": [],
   "source": [
    "embeddings = MlflowEmbeddings(\n",
    "    target_uri=os.environ[\"DOMINO_MLFLOW_DEPLOYMENTS\"],\n",
    "    endpoint=\"embedding-ada-002ja2\",\n",
    ")"
   ]
  },
  {
   "cell_type": "markdown",
   "id": "aba86ec3-676b-4a8b-b1d1-5811e197227e",
   "metadata": {},
   "source": [
    "### Initialize Pinecone vector store using a Domino-specific Environment"
   ]
  },
  {
   "cell_type": "code",
   "execution_count": 13,
   "id": "278a5a74-b4b1-4421-94ab-f84ab6c9b6fe",
   "metadata": {
    "tags": []
   },
   "outputs": [],
   "source": [
    "#Domino Vector Data Source name\n",
    "datasource_name = \"mrag-fin-docs-ja\"\n",
    "\n",
    "#Domino Vector Data Source Configuration \n",
    "pc = Pinecone(**domino_pinecone3x_init_params(datasource_name))\n",
    "index = pc.Index(**domino_pinecone3x_index_params(datasource_name, index_name))"
   ]
  },
  {
   "cell_type": "markdown",
   "id": "bdaf6b06-c9da-4f27-bdf4-323ab6175721",
   "metadata": {},
   "source": [
    "### Initialize previously created Pinecone Index"
   ]
  },
  {
   "cell_type": "code",
   "execution_count": 12,
   "id": "b6e12ed7-44e1-4db6-9e71-87c97f6d50fb",
   "metadata": {
    "tags": []
   },
   "outputs": [],
   "source": [
    "index_name = \"mrag-fin-docs\"\n",
    "vectorstore = PineconeVectorStore(index_name=index_name, embedding=embeddings)"
   ]
  },
  {
   "cell_type": "markdown",
   "id": "47749eb7-241a-4a68-a41c-d6314e9f0b33",
   "metadata": {},
   "source": [
    "### Check index current stats as a simple checkpoint "
   ]
  },
  {
   "cell_type": "markdown",
   "id": "65d230a3-16a0-4ac0-b10a-f7a0839c902f",
   "metadata": {},
   "source": [
    "You'll see that the index has a ```total_vector_count```. This shows the number of vectors are currently present. "
   ]
  },
  {
   "cell_type": "code",
   "execution_count": 14,
   "id": "a457b90a-0fa5-4dd3-a2ad-488b9cb6923f",
   "metadata": {
    "tags": []
   },
   "outputs": [
    {
     "data": {
      "text/plain": [
       "{'dimension': 1536,\n",
       " 'index_fullness': 0.0,\n",
       " 'namespaces': {},\n",
       " 'total_vector_count': 0}"
      ]
     },
     "execution_count": 14,
     "metadata": {},
     "output_type": "execute_result"
    }
   ],
   "source": [
    "index.describe_index_stats()"
   ]
  },
  {
   "cell_type": "markdown",
   "id": "1b399510-115d-4cd6-9504-533e29a50a24",
   "metadata": {},
   "source": [
    "### Embed and then upsert each chunk into the Pinecone database using the previously created index"
   ]
  },
  {
   "cell_type": "code",
   "execution_count": 19,
   "id": "6cab9152-0444-43e8-aa44-678eb08f3665",
   "metadata": {
    "tags": []
   },
   "outputs": [],
   "source": [
    "docsearch = PineconeVectorStore.from_texts(\n",
    "        texts,\n",
    "        index_name=index_name,\n",
    "        embedding=embeddings\n",
    "    )"
   ]
  },
  {
   "cell_type": "markdown",
   "id": "6ee33d2a-efad-4099-aaf3-68121b1dafae",
   "metadata": {},
   "source": [
    "### Test with similarity search "
   ]
  },
  {
   "cell_type": "markdown",
   "id": "0965ba80-c2bc-447e-87a3-25842e3ff679",
   "metadata": {},
   "source": [
    "Use a test query with similarity search to get the closest matches to create some context and information for the answer"
   ]
  },
  {
   "cell_type": "code",
   "execution_count": 20,
   "id": "c7aaca02-a362-404b-aa57-89b51c716323",
   "metadata": {
    "tags": []
   },
   "outputs": [],
   "source": [
    "# Ask your query\n",
    "query = \"How did the Americas do in net sales in FY23?\"\n",
    "# \n",
    "docs = docsearch.similarity_search(query)"
   ]
  },
  {
   "cell_type": "markdown",
   "id": "f4594012-70ac-4eb5-818e-d0d739a32d57",
   "metadata": {},
   "source": [
    "### Examine the similarity search results"
   ]
  },
  {
   "cell_type": "code",
   "execution_count": 21,
   "id": "e1fcac32-47c9-439e-bc05-1b876f733e7e",
   "metadata": {
    "tags": []
   },
   "outputs": [
    {
     "name": "stdout",
     "output_type": "stream",
     "text": [
      "[Document(page_content='Segment Operating Performance\\nThe following table shows net sales by reportable segment for 2023, 2022 and 2021 (dollars in millions):\\n2023 Change 2022 Change 2021\\nNet sales by reportable segment:\\nAmericas $ 162,560 (4)%$ 169,658 11 %$ 153,306 \\nEurope 94,294 (1)% 95,118 7 % 89,307 \\nGreater China 72,559 (2)% 74,200 9 % 68,366 \\nJapan 24,257 (7)% 25,977 (9)% 28,482 \\nRest of Asia Pacific 29,615 1 % 29,375 11 % 26,356 \\nTotal net sales $ 383,285 (3)%$ 394,328 8 %$ 365,817 \\nAmericas\\nAmericas net sales decreased 4% or $7.1 billion  during 2023 compared to 2022 due to lower net sales of iPhone and Mac, partially offset by higher net sales of\\nServices.\\nEurope\\nEurope net sales decreased 1% or $824 million during 2023 compared to 2022. The weakness in foreign currencies relative to the U.S. dollar accounted for\\nmore than the entire year-over-year decrease in Europe net sales, which consisted primarily of lower net sales of Mac and Wearables, Home and Accessories,'), Document(page_content='more than the entire year-over-year decrease in Europe net sales, which consisted primarily of lower net sales of Mac and Wearables, Home and Accessories,\\npartially of fset by higher net sales of iPhone and Services.\\nGreater China\\nGreater China net sales decreased 2% or $1.6 billion during 2023 compared to 2022. The weakness in the renminbi relative to the U.S. dollar accounted for\\nmore than the entire year-over-year decrease in Greater China net sales, which consisted primarily of lower net sales of Mac and iPhone.\\nJapan\\nJapan net sales decreased 7% or $1.7 billion during 2023 compared to 2022. The weakness in the yen relative to the U.S. dollar accounted for more than the\\nentire year-over-year decrease in Japan net sales, which consisted primarily of lower net sales of iPhone, W earables, Home and Accessories and Mac.\\nRest of Asia Pacific'), Document(page_content='entire year-over-year decrease in Japan net sales, which consisted primarily of lower net sales of iPhone, W earables, Home and Accessories and Mac.\\nRest of Asia Pacific\\nRest of Asia Pacific net sales increased 1% or $240 million during 2023 compared to 2022. The weakness in foreign currencies relative to the U.S. dollar had a\\nsignificantly unfavorable  year-over-year impact on Rest of Asia Pacific net sales. The net sales increase consisted of higher net sales of iPhone and Services,\\npartially of fset by lower net sales of Mac and iPad.\\nApple Inc. | 2023 Form 10-K | 21'), Document(page_content='Fiscal Period\\nThe Compan y’s fiscal year is the 52- or 53-week period that ends on the last Saturday of September . An additional week is included in the first fiscal quarter\\nevery five or six years to realign the Company’ s fiscal quarters with calendar quarters, which occurred in the first quarter of 2023. The Company’ s fiscal year\\n2023 spanned 53 weeks, whereas fiscal years 2022 and 2021 spanned 52 weeks each.\\nFiscal Year Highlights\\nThe Company’ s total net sales were $383.3 billion and net income was $97.0 billion during 2023.\\nThe Company’ s total net sales decreased 3% or $11.0 billion during 2023 compared to 2022. The weakness in foreign currencies relative to the U.S. dollar\\naccounted for more than the entire year-over-year decrease in total net sales, which consisted primarily of lower net sales of Mac and iPhone, partially offset by\\nhigher net sales of Services.')]\n"
     ]
    }
   ],
   "source": [
    "print(docs)"
   ]
  },
  {
   "cell_type": "code",
   "execution_count": null,
   "id": "5d1c50e8-832a-42cb-b325-3de3bfc45f4a",
   "metadata": {},
   "outputs": [],
   "source": []
  }
 ],
 "metadata": {
  "kernelspec": {
   "display_name": "Python 3 (ipykernel)",
   "language": "python",
   "name": "python3"
  },
  "language_info": {
   "codemirror_mode": {
    "name": "ipython",
    "version": 3
   },
   "file_extension": ".py",
   "mimetype": "text/x-python",
   "name": "python",
   "nbconvert_exporter": "python",
   "pygments_lexer": "ipython3",
   "version": "3.10.12"
  }
 },
 "nbformat": 4,
 "nbformat_minor": 5
}
