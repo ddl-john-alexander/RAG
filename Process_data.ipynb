{
 "cells": [
  {
   "cell_type": "code",
   "execution_count": 17,
   "id": "271e2708-d901-4d29-bfbf-349712a1b0f4",
   "metadata": {},
   "outputs": [],
   "source": [
    "from langchain.chat_models import ChatOpenAI\n",
    "from langchain.document_loaders import PyPDFLoader\n",
    "from langchain.text_splitter import RecursiveCharacterTextSplitter\n",
    "from langchain.vectorstores.pinecone import Pinecone\n",
    "from mlflow.deployments import get_deploy_client\n",
    "from langchain_community.embeddings import MlflowEmbeddings\n",
    "from domino_data.vectordb import DominoPineconeConfiguration\n",
    "\n",
    "\n",
    "import pinecone\n",
    "\n",
    "import os\n",
    "import random\n",
    "import warnings\n",
    "warnings.filterwarnings('ignore')"
   ]
  },
  {
   "cell_type": "code",
   "execution_count": 18,
   "id": "8ae3bc09-8896-4e61-b9a1-61809deccec7",
   "metadata": {},
   "outputs": [],
   "source": [
    "\n",
    "loader = PyPDFLoader(\"/mnt/code/data/Northwind_Health_Plus_Benefits_Details.pdf\")\n",
    "texts = loader.load_and_split(RecursiveCharacterTextSplitter(chunk_size=1000, chunk_overlap=0))"
   ]
  },
  {
   "cell_type": "code",
   "execution_count": 19,
   "id": "386ebb4b-6b00-4077-9030-7ba156b99e28",
   "metadata": {},
   "outputs": [],
   "source": [
    "OPENAI_API_KEY = os.getenv('OPENAI_API_KEY') \n",
    "PINECONE_API_KEY = os.getenv('PINECONE_API_KEY')\n",
    "PINECONE_ENV = os.getenv('PINECONE_API_ENV')"
   ]
  },
  {
   "cell_type": "code",
   "execution_count": 20,
   "id": "4b96501d-1a7c-4858-a5ec-f8024f8444f8",
   "metadata": {},
   "outputs": [
    {
     "name": "stdout",
     "output_type": "stream",
     "text": [
      "There are 318 pages in the document\n"
     ]
    }
   ],
   "source": [
    "print(f\"There are {len(texts)} pages in the document\")"
   ]
  },
  {
   "cell_type": "code",
   "execution_count": 21,
   "id": "2712c962-cf41-43da-b0ee-641e57753e60",
   "metadata": {},
   "outputs": [
    {
     "name": "stdout",
     "output_type": "stream",
     "text": [
      "page_content='exceptions. These exceptions include:  \\n• Non -FDA approved medications  \\n• Non -prescription vitamins and supplements  \\n• Drugs for cosmetic or elective purposes  \\n• Drugs for fertility treatments  \\n• Drugs for weight loss or gain  \\nIn addition, Northwind Health Plus does not cover drugs that are considered experimental \\nor investigational.' metadata={'source': '/mnt/code/Northwind_Health_Plus_Benefits_Details.pdf', 'page': 45}\n"
     ]
    }
   ],
   "source": [
    "# Pick a sample page\n",
    "print(texts[random.randint(0, len(texts))])"
   ]
  },
  {
   "cell_type": "code",
   "execution_count": 26,
   "id": "319838d7-fbcb-4546-a991-3feffc1ae588",
   "metadata": {},
   "outputs": [],
   "source": [
    "# Create embeddings to embed queries\n",
    "embed = MlflowEmbeddings(\n",
    "    target_uri=os.environ[\"DOMINO_MLFLOW_DEPLOYMENTS\"],\n",
    "    endpoint=\"embedding-ada-002ja2\",\n",
    ")"
   ]
  },
  {
   "cell_type": "code",
   "execution_count": 27,
   "id": "ea847e2d-6803-4551-8ef0-5fb699daa208",
   "metadata": {},
   "outputs": [],
   "source": [
    "#text_field = \"symptoms\"\n",
    "\n",
    "datasource_name = \"nwh-benefits\"\n",
    "#print(PINECONE_ENV)\n",
    "#Vector Access \n",
    "conf = DominoPineconeConfiguration(datasource=datasource_name)\n",
    "\n",
    "#print(conf)\n",
    "\n",
    "api_key = os.environ.get(\"DOMINO_VECTOR_DB_METADATA\", datasource_name)\n",
    "#api_key = PINECONE_API_KEY\n",
    "\n",
    "#print(api_key)\n",
    "\n",
    "# initialize pinecone\n",
    "pinecone.init(\n",
    "    api_key=api_key,\n",
    "    environment=PINECONE_ENV,\n",
    "    openapi_config=conf\n",
    ")\n",
    "\n",
    "index_name = \"nwh-plus-benefits\"\n",
    "index = pinecone.Index(index_name)"
   ]
  },
  {
   "cell_type": "code",
   "execution_count": 28,
   "id": "a457b90a-0fa5-4dd3-a2ad-488b9cb6923f",
   "metadata": {},
   "outputs": [
    {
     "data": {
      "text/plain": [
       "{'dimension': 1536,\n",
       " 'index_fullness': 0.0,\n",
       " 'namespaces': {},\n",
       " 'total_vector_count': 0}"
      ]
     },
     "execution_count": 28,
     "metadata": {},
     "output_type": "execute_result"
    }
   ],
   "source": [
    "index.describe_index_stats()"
   ]
  },
  {
   "cell_type": "code",
   "execution_count": 32,
   "id": "3110e5ad-92de-4687-b519-b8e4d1552d77",
   "metadata": {},
   "outputs": [],
   "source": [
    "docsearch = Pinecone.from_texts([t.page_content for t in texts], embed.embed_query, index_name=index_name)"
   ]
  },
  {
   "cell_type": "code",
   "execution_count": 39,
   "id": "c7aaca02-a362-404b-aa57-89b51c716323",
   "metadata": {},
   "outputs": [],
   "source": [
    "# Ask your query\n",
    "query = \"Does my policy cover annual vision exams?\"\n",
    "# Get the closest matches to create some context and information for the answer\n",
    "docs = docsearch.similarity_search(query)"
   ]
  },
  {
   "cell_type": "code",
   "execution_count": 40,
   "id": "e1fcac32-47c9-439e-bc05-1b876f733e7e",
   "metadata": {},
   "outputs": [
    {
     "name": "stdout",
     "output_type": "stream",
     "text": [
      "[Document(page_content='• Ask your dentist about any special instructions that you may need to follow before or after \\nthe procedure  \\n• Make sure that you understand t he risks and benefits of the procedure  \\n• Ask your dentist about any follow -up care that may be needed after the procedure  \\n• Make sure that you have a plan for transportation in case you need to get to the facility for \\nthe procedure.  \\nDiagnostic X -Ray, Lab  And Imaging  \\nCOVERED SERVICES: Diagnostic X -Ray, Lab and Imaging  \\nNorthwind Health Plus covers diagnostic X -ray, lab, and imaging services. This includes \\nservices like X -rays, CAT scans, MRIs, ultrasounds, and mammograms. Lab services are \\ncovered for tests such as blood tests, urine tests, and other diagnostic tests ordered by a \\ndoctor. Coverage for imaging services includes Magnetic Resonance Imaging (MRI), \\nComputed Tomography (CT) scans, and Positron Emission Tomography (PET) scans.  \\nExceptions'), Document(page_content=\"When considering a medical service or treatment, it is important to review the plan's \\nevidence of coverage to ensure that the service or treatment is covered under the plan. You \\nshould also discuss the service or treatment with your doctor to ensure that i t is medically \\nnecessary. Additionally, you should review the list of excluded services and prescriptions to \\nensure that you are not seeking treatment for an excluded service or prescription.  \\nIf you are considering a medical service or treatment that is n ot covered under the plan, you \\nshould discuss payment options with your doctor or healthcare provider. Additionally, you \\nmay need to consider other payment sources, such as private insurance, flexible spending \\naccounts, or state or federal programs.\"), Document(page_content='aid fittings, adjustments, repairs, and replacements, as well as batteries, when necessary.  \\nWhen it comes to hearing aid coverage, Northwind Health Plus covers up to $1,500 every 3 \\nyears for all hearing aid servi ces, including the hearing aid itself. This amount is based on \\nthe plan’s usual and customary charges, and any additional costs over this amount are the \\nresponsibility of the employee.'), Document(page_content='• Make sure you understand the coverage provided by your plan and that you receive all the \\nservices that are covered.  \\n• Be aware of the out -of-pocket costs associated with the services you receive.  \\n• Take advantage of any support services offered by the plan, such as counseling, group \\ntherapy, or family support.')]\n"
     ]
    }
   ],
   "source": [
    "print(docs)"
   ]
  },
  {
   "cell_type": "code",
   "execution_count": null,
   "id": "5d1c50e8-832a-42cb-b325-3de3bfc45f4a",
   "metadata": {},
   "outputs": [],
   "source": []
  }
 ],
 "metadata": {
  "kernelspec": {
   "display_name": "Python 3 (ipykernel)",
   "language": "python",
   "name": "python3"
  },
  "language_info": {
   "codemirror_mode": {
    "name": "ipython",
    "version": 3
   },
   "file_extension": ".py",
   "mimetype": "text/x-python",
   "name": "python",
   "nbconvert_exporter": "python",
   "pygments_lexer": "ipython3",
   "version": "3.9.18"
  }
 },
 "nbformat": 4,
 "nbformat_minor": 5
}
