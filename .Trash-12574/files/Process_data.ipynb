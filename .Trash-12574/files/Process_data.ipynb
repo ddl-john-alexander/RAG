{
 "cells": [
  {
   "cell_type": "code",
   "execution_count": null,
   "id": "4ea2f4fc-3f73-40b0-bc25-8b820ce98f9c",
   "metadata": {
    "tags": []
   },
   "outputs": [],
   "source": [
    "# Load libraries\n",
    "import pinecone\n",
    "from tqdm.autonotebook import tqdm\n",
    "\n",
    "import openai\n",
    "import pandas as pd\n",
    "import numpy as np\n",
    "import re\n",
    "import os\n",
    "from transformers import pipeline\n",
    "import textwrap\n",
    "import warnings\n",
    "warnings.filterwarnings('ignore')"
   ]
  },
  {
   "cell_type": "code",
   "execution_count": null,
   "id": "d960d05c-6425-42b1-a0e8-62d35e59cff9",
   "metadata": {
    "tags": []
   },
   "outputs": [],
   "source": [
    "# Read your OpenAI and Pinecone keys from the environment\n",
    "\n",
    "OPENAI_API_KEY = os.getenv('OPENAI_API_KEY') \n",
    "PINECONE_API_KEY = os.getenv('PINECONE_API_KEY')\n",
    "PINECONE_ENV = os.getenv('PINECONE_API_ENV')\n",
    "\n",
    "openai.api_key = OPENAI_API_KEY"
   ]
  },
  {
   "cell_type": "code",
   "execution_count": null,
   "id": "18f649d7-2c66-4f54-9b1a-e72c08ca0712",
   "metadata": {
    "tags": []
   },
   "outputs": [],
   "source": [
    "# initialize pinecone\n",
    "\n",
    "pinecone.init(\n",
    "    api_key=PINECONE_API_KEY,\n",
    "    environment=PINECONE_ENV\n",
    ")\n",
    "\n",
    "index_name = \"medical-qa-search\"\n",
    "index = pinecone.Index(index_name)"
   ]
  },
  {
   "cell_type": "code",
   "execution_count": null,
   "id": "93ad43c5-1e68-48dd-ae9d-12b1b9c64c53",
   "metadata": {
    "assistant": "{\"type_action\": {\"name\": \"ActionOpen\", \"data\": {\"df_var_out\": \"df\", \"filename\": \"/mnt/code/data/disease_components.csv\", \"reactive\": false}}}",
    "tags": []
   },
   "outputs": [],
   "source": [
    "# Read the medical diagnostic data into a dataframe\n",
    "\n",
    "df = pd.read_csv(\"/mnt/code/data/disease_components.csv\")\n",
    "df.head()"
   ]
  },
  {
   "cell_type": "code",
   "execution_count": null,
   "id": "892e0d79-50d8-4814-994c-1696e83b820f",
   "metadata": {},
   "outputs": [],
   "source": [
    "dfFillNaN = df.fillna(\"none\")\n",
    "dfFillNaN.head()"
   ]
  },
  {
   "cell_type": "code",
   "execution_count": null,
   "id": "b00b7d72-d7f9-44bd-97f4-8b50cf1ab597",
   "metadata": {},
   "outputs": [],
   "source": [
    "find = [\"\\[\",\"\\]\",\"\\'\",\"\\\"\",\"\\,\"]\n",
    "replace = ['','','','','']\n",
    "\n",
    "dfCleaned = dfFillNaN.replace(find, replace, regex=True)\n",
    "dfCleaned.head()"
   ]
  },
  {
   "cell_type": "code",
   "execution_count": null,
   "id": "581aed1b-ecf9-44b0-96ff-38d726da5436",
   "metadata": {
    "assistant": "{\"type_action_state\": {\"actions\": [{\"type_action\": {\"name\": \"ActionUseNbLocals\", \"data\": {\"df_var_out\": \"df_ovr\", \"var_name\": \"df_ovr\"}}}, {\"type_action\": {\"name\": \"ActionFilter\", \"data\": {\"df_var_out\": \"df_causes\", \"col\": \"Causes\", \"dtype\": \"object\", \"op\": \"!=\", \"value\": \"NaN\", \"is_string\": false}}}, {\"type_action\": {\"name\": \"ActionFilter\", \"data\": {\"df_var_out\": \"df_rf\", \"col\": \"Risk factors\", \"dtype\": \"object\", \"op\": \"!=\", \"value\": \"NaN\", \"is_string\": false}}}, {\"type_action\": {\"name\": \"ActionFilter\", \"data\": {\"df_var_out\": \"df_diag\", \"col\": \"diagnosis\", \"dtype\": \"object\", \"op\": \"!=\", \"value\": \"NaN\", \"is_string\": false}}}], \"undo_stack\": [[{\"type_action\": {\"name\": \"ActionUseNbLocals\", \"data\": {\"df_var_out\": \"df_ovr\", \"var_name\": \"df_ovr\"}}}], [{\"type_action\": {\"name\": \"ActionUseNbLocals\", \"data\": {\"df_var_out\": \"df_ovr\", \"var_name\": \"df_ovr\"}}}, {\"type_action\": {\"name\": \"ActionFilter\", \"data\": {\"df_var_out\": \"df_causes\", \"col\": \"Causes\", \"dtype\": \"object\", \"op\": \"!=\", \"value\": \"NaN\", \"is_string\": false}}}], [{\"type_action\": {\"name\": \"ActionUseNbLocals\", \"data\": {\"df_var_out\": \"df_ovr\", \"var_name\": \"df_ovr\"}}}, {\"type_action\": {\"name\": \"ActionFilter\", \"data\": {\"df_var_out\": \"df_causes\", \"col\": \"Causes\", \"dtype\": \"object\", \"op\": \"!=\", \"value\": \"NaN\", \"is_string\": false}}}, {\"type_action\": {\"name\": \"ActionFilter\", \"data\": {\"df_var_out\": \"df_rf\", \"col\": \"Risk factors\", \"dtype\": \"object\", \"op\": \"!=\", \"value\": \"NaN\", \"is_string\": false}}}]], \"redo_stack\": [], \"preview\": true}}",
    "tags": []
   },
   "outputs": [],
   "source": [
    "# Data tansformation with DCA - removing NaN values from data\n",
    "df_sym = df.loc[df[\"Symptoms\"].notna()]\n",
    "df_ovr = df_sym.loc[df_sym[\"Overview\"].notna()]\n",
    "df_causes = df_ovr.loc[df_ovr[\"Causes\"].notna()]\n",
    "df_rf = df_causes.loc[df_causes[\"Risk factors\"].notna()]\n",
    "df_ppNaN = df_rf.loc[df_rf[\"diagnosis\"].notna()]\n",
    "df_ppNaN"
   ]
  },
  {
   "cell_type": "code",
   "execution_count": null,
   "id": "4db44b99-e0ea-43d3-b9dd-39fcee6e9df4",
   "metadata": {
    "tags": []
   },
   "outputs": [],
   "source": [
    "# Helper function to summarize large column to conform to Pinecone metadata upsert limits\n",
    "# Initialize summarization pipeline\n",
    "summary = pipeline('summarization')\n",
    "def summarize_text(column_text):\n",
    "  if len(column_text) > 10000:\n",
    "    final_list = []\n",
    "    chunks =  textwrap.wrap(column_text,1000)\n",
    "    for chunk in chunks:\n",
    "      final_list.append(summary(chunk)[0]['summary_text'])\n",
    "    final_summary = \" \".join(final_list)\n",
    "    return final_summary\n",
    "  else:\n",
    "    return column_text"
   ]
  },
  {
   "cell_type": "code",
   "execution_count": null,
   "id": "c23c6d7a-ff86-4c21-a27b-917579fffe86",
   "metadata": {
    "tags": []
   },
   "outputs": [],
   "source": [
    "# Summarize large columns\n",
    "dfCleaned['Symptoms'] = dfCleaned['Symptoms'].map(summarize_text)\n",
    "dfCleaned['Overview'] = dfCleaned['Overview'].map(summarize_text)\n",
    "dfCleaned['Causes'] = dfCleaned['Causes'].map(summarize_text)\n",
    "dfCleaned['Risk factors'] = dfCleaned['Risk factors'].map(summarize_text)\n",
    "dfCleaned['diagnosis'] = dfCleaned['diagnosis'].map(summarize_text)"
   ]
  },
  {
   "cell_type": "code",
   "execution_count": null,
   "id": "a0f657dd-09e4-47bd-9746-b38f2f9a1e10",
   "metadata": {
    "tags": []
   },
   "outputs": [],
   "source": [
    "\n",
    "dfCleaned.head()\n"
   ]
  },
  {
   "cell_type": "code",
   "execution_count": null,
   "id": "bec752cf-a379-41b9-be54-abdebcbbb5b8",
   "metadata": {
    "tags": []
   },
   "outputs": [],
   "source": [
    "# Batch for embedding and upsert into Pinecone  \n",
    "model = \"text-embedding-ada-002\"\n",
    "embeddings = []\n",
    "texts = []\n",
    "BATCH_SIZE = 32\n",
    "for batch_start in range(0, len(dfCleaned), BATCH_SIZE):\n",
    "    batch_end = batch_start + BATCH_SIZE\n",
    "    #get batch id\n",
    "    batch_ids  = [str(batch_start) for batch_start in range(batch_start,batch_end)]\n",
    "    symptoms_batch = dfCleaned['Symptoms'].values.tolist()[batch_start:batch_end]\n",
    "    link_batch = dfCleaned['link'].values.tolist()[batch_start:batch_end]\n",
    "    name_batch = dfCleaned['name'].values.tolist()[batch_start:batch_end]\n",
    "    overview_batch = dfCleaned['Overview'].values.tolist()[batch_start:batch_end]\n",
    "    causes_batch = dfCleaned['Causes'].values.tolist()[batch_start:batch_end]\n",
    "    risk_factors_batch = dfCleaned['Risk factors'].values.tolist()[batch_start:batch_end]\n",
    "    diagnosis_batch = dfCleaned['diagnosis'].values.tolist()[batch_start:batch_end]\n",
    "    batch_text = [{'name':name,'symptoms':symptoms,'overview':overview,'causes':causes,'riskf':risk_factors,'diagnosis':diagnosis,'link':link} for name,symptoms,overview,causes,risk_factors,diagnosis,link in zip(name_batch,symptoms_batch,overview_batch,causes_batch,risk_factors_batch,diagnosis_batch,link_batch)]\n",
    "    print(f\"Batch {batch_start} to {batch_end-1}\")\n",
    "    #response = client.embeddings.create(model=model, input=batch_text)\n",
    "    response = openai.Embedding.create(input=symptoms_batch,engine=model)\n",
    "    for i, be in enumerate(response.data):\n",
    "        assert i == be.index  # double check embeddings are in same order as input\n",
    "    #batch_embeddings = [e.embedding for e in response.data]\n",
    "    batch_embeddings = [ record['embedding'] for record in response['data']] \n",
    "    embeddings.extend(batch_embeddings)\n",
    "    texts.extend(batch_text)\n",
    "    #upsert to pinecone\n",
    "    to_upsert = zip(batch_ids,batch_embeddings,batch_text)\n",
    "    index.upsert(vectors=list(to_upsert))\n",
    "    \n",
    "index.describe_index_stats()    \n",
    "dfUpsert = pd.DataFrame({\"text\": texts, \"embedding\": embeddings})"
   ]
  },
  {
   "cell_type": "code",
   "execution_count": null,
   "id": "3383f152-adef-43dc-944b-695788b1f164",
   "metadata": {
    "tags": []
   },
   "outputs": [],
   "source": [
    "index.describe_index_stats()"
   ]
  },
  {
   "cell_type": "code",
   "execution_count": null,
   "id": "bd0665a8-256b-4600-98ba-7b8219f9f6e6",
   "metadata": {
    "tags": []
   },
   "outputs": [],
   "source": [
    "dfUpsert.head()"
   ]
  },
  {
   "cell_type": "code",
   "execution_count": null,
   "id": "5d216738-f985-4a6e-97e4-02bffea510fe",
   "metadata": {},
   "outputs": [],
   "source": []
  }
 ],
 "metadata": {
  "dca-init": "true",
  "kernelspec": {
   "display_name": "Python 3 (ipykernel)",
   "language": "python",
   "name": "python3"
  },
  "language_info": {
   "codemirror_mode": {
    "name": "ipython",
    "version": 3
   },
   "file_extension": ".py",
   "mimetype": "text/x-python",
   "name": "python",
   "nbconvert_exporter": "python",
   "pygments_lexer": "ipython3",
   "version": "3.9.18"
  }
 },
 "nbformat": 4,
 "nbformat_minor": 5
}
